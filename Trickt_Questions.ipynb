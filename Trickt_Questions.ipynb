{
 "cells": [
  {
   "cell_type": "markdown",
   "metadata": {},
   "source": [
    "3. Write a function named add_commas that accepts a string representing a number and returns a new string with a comma at every third position, starting from the right.\n",
    "\n",
    "For example, the call of add_commas(\"12345678\") returns \"12,345,678\". \n",
    "\n",
    "# 用reverse 并且确保顺序 result = char + result char在前"
   ]
  },
  {
   "cell_type": "code",
   "execution_count": null,
   "metadata": {},
   "outputs": [],
   "source": [
    "def main():\n",
    "\n",
    "    def add_commas(number_str):\n",
    "        \n",
    "        # Initialize variables\n",
    "        result = \"\"\n",
    "        count = 0\n",
    "        \n",
    "        # Iterate through the characters of the number string in reverse order\n",
    "        for char in reversed(number_str):\n",
    "            count += 1\n",
    "            result = char + result    # char \n",
    "            \n",
    "            # Add a comma after every third digit (except for the last group)\n",
    "            if count == 3 and len(number_str) > 3:\n",
    "                result = \",\" + result\n",
    "                count = 0\n",
    "        \n",
    "        return result\n",
    "\n",
    "    # Example usage:\n",
    "    number_str = \"12345678\"\n",
    "    formatted_number = add_commas(number_str)\n",
    "    print(formatted_number)  # Output: \"12,345,678\"\n",
    "\n",
    "\n",
    "if __name__ == \"__main__\":\n",
    "    main()\n",
    "\n",
    "         "
   ]
  },
  {
   "cell_type": "code",
   "execution_count": 1,
   "metadata": {},
   "outputs": [
    {
     "name": "stdout",
     "output_type": "stream",
     "text": [
      "    *\n",
      "   ***\n",
      "  *****\n",
      " *******\n"
     ]
    }
   ],
   "source": [
    "height = 4\n",
    "for i in range (1,height + 1):\n",
    "    print (\" \"*(height - i), \"*\"*(2*i - 1))"
   ]
  },
  {
   "cell_type": "code",
   "execution_count": 2,
   "metadata": {},
   "outputs": [
    {
     "name": "stdout",
     "output_type": "stream",
     "text": [
      " *******\n",
      "  *****\n",
      "   ***\n",
      "    *\n"
     ]
    }
   ],
   "source": [
    "height = 4\n",
    "for i in range (height,0,-1):\n",
    "    print (\" \"*(height - i), \"*\"*(2*i - 1))"
   ]
  },
  {
   "cell_type": "markdown",
   "metadata": {},
   "source": [
    "Write a function named count_distinct that accepts a string as a parameter and returns a list of each element counting how many occurrences of one distinct character in the input.\n",
    " Note that characters are considered case-sensitive (e.g., ‘a’ and ‘A’ are different.)\n",
    "\n",
    "Here are some example calls to the function and expected return results:\n",
    "\n",
    "revision 5 - examples (Hard)\n",
    "\n",
    "Explanation: For the call with ID 1, as the string “look” has 1 character ‘l’, 2 characters ‘o’, and 1 character ‘k’, the value returned is [1, 2, 1]. Similarly, with the call with ID 2, as the string “Hello World” has 1 character ‘H’, 1 character ‘e’, 3 characters ‘l’, 2 characters ‘o’, 1 character ‘ ’ (the space), 1 character ‘W’ 1 character ‘r’, and 1 character ‘d’, the value returned is [1, 1, 3, 2, 1, 1, 1, 1]."
   ]
  },
  {
   "cell_type": "code",
   "execution_count": null,
   "metadata": {},
   "outputs": [],
   "source": [
    "def count_distinct(s):\n",
    "    char_count = {}\n",
    "    for char in s:\n",
    "        if char in char_count:\n",
    "            char_count[char] += 1\n",
    "        else: \n",
    "            char_count[char] = 1\n",
    "    return list(char_count.values())\n",
    "\n",
    "# Example usage\n",
    "print(count_distinct(\"llook\"))"
   ]
  }
 ],
 "metadata": {
  "kernelspec": {
   "display_name": "Python 3",
   "language": "python",
   "name": "python3"
  },
  "language_info": {
   "codemirror_mode": {
    "name": "ipython",
    "version": 3
   },
   "file_extension": ".py",
   "mimetype": "text/x-python",
   "name": "python",
   "nbconvert_exporter": "python",
   "pygments_lexer": "ipython3",
   "version": "3.11.5"
  }
 },
 "nbformat": 4,
 "nbformat_minor": 2
}
