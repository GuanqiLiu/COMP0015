{
 "cells": [
  {
   "cell_type": "markdown",
   "metadata": {},
   "source": [
    "List exercise\n",
    "1. Write a function called list_range that returns the range of values in a list of integers. The range \n",
    "is defined as 1 more than the difference between the maximum and minimum values in the list. For \n",
    "example,  if  a  list  called lis contains  the  values [36,  12,  25,  19,  46,  31,  22],  the  call \n",
    "of list_range(lis) should return 35. You may assume that the list has at least one element."
   ]
  },
  {
   "cell_type": "code",
   "execution_count": 1,
   "metadata": {},
   "outputs": [
    {
     "name": "stdout",
     "output_type": "stream",
     "text": [
      "9\n"
     ]
    }
   ],
   "source": [
    "def list_range (list):\n",
    "    return max(list) - min (list) + 1\n",
    "\n",
    "a = [1, 2, 3, 4, 5, 6, 7, 8, 9]\n",
    "list_range(a)\n",
    "print(list_range(a))"
   ]
  },
  {
   "cell_type": "markdown",
   "metadata": {},
   "source": [
    "2. Write a function called contains that accepts two lists of integers a1 and a2 as parameters and \n",
    "that returns a Boolean value indicating whether or not the sequence of elements in a2 appears \n",
    "in a1 (True for yes, False for no). The sequence must appear consecutively and in the same \n",
    "order. For example, consider the following lists: \n",
    "list1 = [1, 6, 2, 1, 4, 1, 2, 1, 8] \n",
    "list2 = [1, 2, 1] \n",
    "The call of contains(list1,  list2) should return True because the sequence of values \n",
    "in list2 [1, 2, 1] is contained in list1 starting at index 5. If list2 had stored the values [2, \n",
    "1,  2],  the  call  of contains(list1,  list2) would  return False.  Any  two  lists  with  identical \n",
    "elements are considered to contain each other. Every list contains the empty list, and the empty list \n",
    "does not contain any lists other than the empty list itself. "
   ]
  },
  {
   "cell_type": "code",
   "execution_count": 17,
   "metadata": {},
   "outputs": [
    {
     "name": "stdout",
     "output_type": "stream",
     "text": [
      "True\n"
     ]
    }
   ],
   "source": [
    "def contains(list1,list2):\n",
    "        \n",
    "    if list2 > list1 or list1 > list2 or list1 == list2 or list1 == [] or list2 == []:\n",
    "        return True\n",
    "    else:\n",
    "        return False\n",
    "\n",
    "list1 = [1]\n",
    "list2 = [1,2,3]\n",
    "print(contains(list1,list2))"
   ]
  },
  {
   "cell_type": "markdown",
   "metadata": {},
   "source": [
    "3. Write  a  function  called is_magic_square that  accepts  a  two-dimensional  list  of  integers  as  a \n",
    "parameter and returns True if it is a magic square. A square matrix is a magic square if all of its row, \n",
    "column and diagonal sums are equal. For example, [[2, 7, 6], [9, 5, 1], [4, 3, 8]] is a \n",
    "square matrix because all eight of the sums are exactly 15.  Another example of a magic square is: \n",
    "[[16, 3, 2, 13], [5, 10, 11, 8], [9, 6, 7, 12], [4, 15, 14, 1]]. "
   ]
  },
  {
   "cell_type": "code",
   "execution_count": 8,
   "metadata": {},
   "outputs": [
    {
     "data": {
      "text/plain": [
       "True"
      ]
     },
     "execution_count": 8,
     "metadata": {},
     "output_type": "execute_result"
    }
   ],
   "source": [
    "def magic_square(matrix):\n",
    "    \n",
    "    length = len(matrix)\n",
    "    sumdiagnal = 0 \n",
    "    \n",
    "    for i in range (length):\n",
    "        sumdiagnal += matrix [i][i]\n",
    "\n",
    "\n",
    "    for row in range (length):\n",
    "        if sum(matrix[row]) == sum(matrix[0]) and sum(matrix[row]) == sumdiagnal:\n",
    "            return True\n",
    "        else:\n",
    "            return False\n",
    "\n",
    "\n",
    "magic_square([[2, 7, 6], [9, 5, 1], [4, 3, 8]])"
   ]
  },
  {
   "cell_type": "markdown",
   "metadata": {},
   "source": [
    "Strings \n",
    "1. Write a function called repl() that accepts a string and a number of repetitions as parameters and \n",
    "returns the string concatenated that many times. For example, the call repl(\"hello\", 3) should return \"hellohellohello\". If the number of repetitions is zero or less, the function should return an empty string. Do not use the string * operator in your solution; use a cumulative algorithm ."
   ]
  },
  {
   "cell_type": "code",
   "execution_count": 12,
   "metadata": {},
   "outputs": [
    {
     "name": "stdout",
     "output_type": "stream",
     "text": [
      "hellohellohellohello\n"
     ]
    }
   ],
   "source": [
    "def repl(string, number):\n",
    "    length = len(string)\n",
    "    if number > 0 :\n",
    "        print (string[0:length]*number)\n",
    "    else: \n",
    "        print (\"\")\n",
    "\n",
    "repl(\"hello\",4)"
   ]
  },
  {
   "cell_type": "code",
   "execution_count": null,
   "metadata": {},
   "outputs": [],
   "source": [
    "def repl(string, num_times):\n",
    "    return(num_times * string)\n",
    "\n",
    "def main():\n",
    "    print(repl(\"Hello\", 6))\n",
    "\n",
    "if __name__ == \"__main__\":\n",
    "    main()"
   ]
  },
  {
   "cell_type": "markdown",
   "metadata": {},
   "source": [
    "2. Write a function called xo() that accepts an integer size as a parameter and prints a square of size \n",
    "by size -characters, where all characters are “o” except that an “x” pattern of “x” characters has been \n",
    "drawn from the corners of the square. On the first line, the first and last characters are \"x\"; on the \n",
    "second line, the second and -second-from-last characters are \"x\"; and so on. For example, the calls \n",
    "of xo(5) and xo(6) should produce the following outputs, respectively: \n",
    "xooox \n",
    "oxoxo \n",
    "ooxoo \n",
    "oxoxo \n",
    "xooox \n",
    " \n",
    "xoooox \n",
    "oxooxo \n",
    "ooxxoo \n",
    "ooxxoo \n",
    "oxooxo \n",
    "xoooox"
   ]
  },
  {
   "cell_type": "code",
   "execution_count": 2,
   "metadata": {},
   "outputs": [
    {
     "name": "stdout",
     "output_type": "stream",
     "text": [
      "xooox\n",
      "oxoxo\n",
      "ooxoo\n",
      "oxoxo\n",
      "xooox\n",
      "\n",
      "xoooox\n",
      "oxooxo\n",
      "ooxxoo\n",
      "ooxxoo\n",
      "oxooxo\n",
      "xoooox\n",
      "\n"
     ]
    }
   ],
   "source": [
    "def xo(n):\n",
    "    for i in range(n):\n",
    "        for j in range(n):\n",
    "            if j == i or j == (n - i) - 1:\n",
    "                print('x', end = '')\n",
    "            else:\n",
    "                print('o', end = '')\n",
    "        print()\n",
    "    print()\n",
    "\n",
    "def main():\n",
    "    xo(5)\n",
    "    xo(6)\n",
    "\n",
    "\n",
    "if __name__ == \"__main__\":\n",
    "    main()\n",
    "\n",
    "#j == (n - i) - 1 ?????"
   ]
  },
  {
   "cell_type": "markdown",
   "metadata": {},
   "source": [
    "3. Write a function called print_palindrome() that prompts the user to enter one or more words \n",
    "and  prints  whether  the  entered  string  is  a  palindrome  (i.e.,  reads  the  same  forwards  as  it  does \n",
    "backwards, like \"abba\" or \"racecar\"). For an added challenge, make the code case-insensitive, so that \n",
    "words  like  \"Abba\"  and  \"Madam\" will  be  considered  palindromes.  Note: you  must not  Python  slice \n",
    "notation x [::-1] to reverse your string in your solution."
   ]
  },
  {
   "cell_type": "code",
   "execution_count": 3,
   "metadata": {},
   "outputs": [],
   "source": [
    "def print_palindrome(word):\n",
    "    if len(word) % 2 == 0:\n",
    "        for character in range (len(word) % 2):\n",
    "            if word[character] == word[-character]:\n",
    "                return True\n",
    "            else:\n",
    "                return False\n",
    "    if len(word) % 2 != 0:\n",
    "        for character in range ((len(word)-1) % 2):\n",
    "            if word[character] == word[-character]:\n",
    "                return True\n",
    "            else:\n",
    "                return False\n",
    "            \n",
    "#not working???\n",
    "print_palindrome(\"zaaz\")"
   ]
  },
  {
   "cell_type": "code",
   "execution_count": null,
   "metadata": {},
   "outputs": [],
   "source": [
    "def print_palindrome(string):\n",
    "    reversed_string = \"\"\n",
    "    for i in range(len(string) - 1, -1, -1):\n",
    "        reversed_string += string[i]\n",
    "        \n",
    "    if reversed_string.lower() == string.lower():\n",
    "        print(f\"\\n'{string}' is a palindrome\")\n",
    "    else:\n",
    "        print(f\"\\n'{string}' is not a palindrome\")\n",
    "    \n",
    "def main():\n",
    "     print_palindrome(\"abba\")\n",
    "     print_palindrome(\"racecar\")\n",
    "     print_palindrome(\"COMP0015\")\n",
    "\n",
    "if __name__ == \"__main__\":\n",
    "    main()\n",
    "\n",
    "#for i in range(len(string) - 1, -1, -1) step要设定为负一 从右往左"
   ]
  },
  {
   "cell_type": "markdown",
   "metadata": {},
   "source": [
    "4. A  useful  technique  for  catching  typing  errors  is  to  use  a  check  digit.  For  example,  suppose  that  a \n",
    "school assigns a six-digit number to each student. A seventh digit can be determined from the other \n",
    "digits with the use of the following formula:  \n",
    "     7th digit = (1 * (1st digit) + 2 * (2nd digit) + .. . + 6 * (6th digit)) % 10 \n",
    "When a user types in a  student  number,  the  user  types  all  seven  digits. If the number is typed \n",
    "incorrectly, the check digit will fail to match in 90% of the cases. Write  an interactive program that \n",
    "prompts    for    a    six-digit  student    number    and  reports  the  check  digit  for  that  number,  using  the \n",
    "preceding formula."
   ]
  },
  {
   "cell_type": "code",
   "execution_count": 7,
   "metadata": {},
   "outputs": [
    {
     "name": "stdout",
     "output_type": "stream",
     "text": [
      "4\n"
     ]
    }
   ],
   "source": [
    "def calculate_check_digit(student_number):\n",
    "    # 初始化校验位\n",
    "    check_digit = 0\n",
    "    \n",
    "    # 计算校验位\n",
    "    for i in range(len(student_number)):\n",
    "        check_digit += (i+1) * int(student_number[i])\n",
    "    \n",
    "    # 取模运算得到最终校验位\n",
    "    check_digit %= 10\n",
    "    \n",
    "    return check_digit\n",
    "\n",
    "# 主程序开始\n",
    "if __name__ == \"__main__\":\n",
    "    # 用户输入\n",
    "    student_number = input(\"请输入六位学生编号: \")\n",
    "    \n",
    "    # 确保输入的是六位数字\n",
    "    if len(student_number) == 6 and student_number.isdigit():\n",
    "        # 计算校验位\n",
    "        check_digit = calculate_check_digit(student_number)\n",
    "        # 显示校验位\n",
    "        print(\"校验位是:\", check_digit)\n",
    "    else:\n",
    "        print(\"输入的不是六位数字，请重新输入。\")\n"
   ]
  }
 ],
 "metadata": {
  "kernelspec": {
   "display_name": "Python 3",
   "language": "python",
   "name": "python3"
  },
  "language_info": {
   "codemirror_mode": {
    "name": "ipython",
    "version": 3
   },
   "file_extension": ".py",
   "mimetype": "text/x-python",
   "name": "python",
   "nbconvert_exporter": "python",
   "pygments_lexer": "ipython3",
   "version": "3.11.5"
  }
 },
 "nbformat": 4,
 "nbformat_minor": 2
}
