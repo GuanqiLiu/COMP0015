{
 "cells": [
  {
   "cell_type": "markdown",
   "metadata": {},
   "source": [
    "List exercise\n",
    "1. Write a function called list_range that returns the range of values in a list of integers. The range \n",
    "is defined as 1 more than the difference between the maximum and minimum values in the list. For \n",
    "example,  if  a  list  called lis contains  the  values [36,  12,  25,  19,  46,  31,  22],  the  call \n",
    "of list_range(lis) should return 35. You may assume that the list has at least one element."
   ]
  },
  {
   "cell_type": "code",
   "execution_count": 1,
   "metadata": {},
   "outputs": [
    {
     "name": "stdout",
     "output_type": "stream",
     "text": [
      "9\n"
     ]
    }
   ],
   "source": [
    "def list_range (list):\n",
    "    return max(list) - min (list) + 1\n",
    "\n",
    "a = [1, 2, 3, 4, 5, 6, 7, 8, 9]\n",
    "list_range(a)\n",
    "print(list_range(a))"
   ]
  },
  {
   "cell_type": "markdown",
   "metadata": {},
   "source": [
    "2. Write a function called contains that accepts two lists of integers a1 and a2 as parameters and \n",
    "that returns a Boolean value indicating whether or not the sequence of elements in a2 appears \n",
    "in a1 (True for yes, False for no). The sequence must appear consecutively and in the same \n",
    "order. For example, consider the following lists: \n",
    "list1 = [1, 6, 2, 1, 4, 1, 2, 1, 8] \n",
    "list2 = [1, 2, 1] \n",
    "The call of contains(list1,  list2) should return True because the sequence of values \n",
    "in list2 [1, 2, 1] is contained in list1 starting at index 5. If list2 had stored the values [2, \n",
    "1,  2],  the  call  of contains(list1,  list2) would  return False.  Any  two  lists  with  identical \n",
    "elements are considered to contain each other. Every list contains the empty list, and the empty list \n",
    "does not contain any lists other than the empty list itself. "
   ]
  },
  {
   "cell_type": "code",
   "execution_count": null,
   "metadata": {},
   "outputs": [],
   "source": [
    "\"\"\"File: list_in_list.\n",
    "\n",
    "Author: Rae Harbird\n",
    "\n",
    "Check lists valid. Return True if the longer list is equal in length or longer than the other list.\n",
    "\"\"\"\n",
    "\n",
    "def lists_valid(long_list, short_list):\n",
    "    \"\"\"\n",
    "    @param long_list the longer list\n",
    "    @param short_list the shorter list\n",
    "    @return True or False\n",
    "    \"\"\"\n",
    "    if len(long_list) == 0 or len(short_list) == 0:\n",
    "        return False\n",
    "   \n",
    "    if len(short_list) > len(long_list):\n",
    "        return False\n",
    "    \n",
    "    return True\n",
    "\n",
    "   \n",
    "def contains(longer_list, shorter_list):\n",
    "    \"\"\"\n",
    "    Returns True if the shorter list is contained in the longer list\n",
    "    This is a shorter version of the code above\n",
    "\n",
    "    @param longerList the longer list\n",
    "    @param shorterList the shorter list\n",
    "    @return True or False\n",
    "    \"\"\"\n",
    "    \n",
    "    # Check that the lists are valid\n",
    "    if not lists_valid(longer_list, shorter_list):\n",
    "        return False\n",
    "\n",
    "    matched = False\n",
    "    i = 0\n",
    "\n",
    "    while i <= (len(longer_list) - len(shorter_list) + 1) and not matched:\n",
    "\n",
    "        long_list_slice = longer_list[i: i + len(shorter_list)]     #long list 的一小块 = short list\n",
    "        print(long_list_slice)\n",
    "\n",
    "        if long_list_slice == shorter_list:\n",
    "            matched = True\n",
    "\n",
    "        i += 1\n",
    "        \n",
    "    return matched\n",
    "        \n",
    "                    \n",
    "def main():\n",
    "    print(\"\\n\\nTest 1:\")\n",
    "    list1 = [1, 6, 2, 3, 4, 1, 2, 1, 8]\n",
    "    list2 = [2, 1, 8]\n",
    "\n",
    "    print(\"List1 : {}\".format(list1))\n",
    "    print(\"List2 : {}\".format(list2))\n",
    "\n",
    "    if contains(list1, list2):\n",
    "        print(\"List 2 contained in list1\")\n",
    "    else:\n",
    "        print(\"List 2 not contained in list1\")\n",
    "\n",
    "    print(\"\\n\\nTest 2:\")\n",
    "    list2 = [1, 6, 2, 3, 4, 1, 2, 1, 8]\n",
    "    list1 = [2, 1, 8]\n",
    "\n",
    "    print(\"List1 : {}\".format(list1))\n",
    "    print(\"List2 : {}\".format(list2))\n",
    "\n",
    "    if contains(list1, list2):\n",
    "        print(\"List 2 contained in list1\")\n",
    "    else:\n",
    "        print(\"List 2 not contained in list1\")\n",
    "\n",
    "    print(\"\\n\\nTest 3:\")\n",
    "    list1 = []\n",
    "    list2 = []\n",
    "\n",
    "    print(\"List1 : {}\".format(list1))\n",
    "    print(\"List2 : {}\".format(list2))\n",
    "\n",
    "    if contains(list1, list2):\n",
    "        print(\"List 2 contained in list1\")\n",
    "    else:\n",
    "        print(\"List 2 not contained in list1\")\n",
    "\n",
    "    print(\"\\n\\nTest 4:\")\n",
    "    list1 = [1, 6, 2, 3, 4, 1, 2, 1, 8]\n",
    "    list2 = [2, 1, 7]    \n",
    "\n",
    "    print(\"List1 : {}\".format(list1))\n",
    "    print(\"List2 : {}\".format(list2))\n",
    "\n",
    "    if contains(list1, list2):\n",
    "        print(\"List 2 contained in list1\")\n",
    "    else:\n",
    "        print(\"List 2 not contained in list1\")\n",
    "\n",
    "\n",
    "if __name__ == \"__main__\":\n",
    "    main()\n"
   ]
  },
  {
   "cell_type": "markdown",
   "metadata": {},
   "source": [
    "3. Write  a  function  called is_magic_square that  accepts  a  two-dimensional  list  of  integers  as  a \n",
    "parameter and returns True if it is a magic square. A square matrix is a magic square if all of its row, \n",
    "column and diagonal sums are equal. For example, [[2, 7, 6], [9, 5, 1], [4, 3, 8]] is a \n",
    "square matrix because all eight of the sums are exactly 15.  Another example of a magic square is: \n",
    "[[16, 3, 2, 13], [5, 10, 11, 8], [9, 6, 7, 12], [4, 15, 14, 1]]. "
   ]
  },
  {
   "cell_type": "code",
   "execution_count": 8,
   "metadata": {},
   "outputs": [
    {
     "data": {
      "text/plain": [
       "True"
      ]
     },
     "execution_count": 8,
     "metadata": {},
     "output_type": "execute_result"
    }
   ],
   "source": [
    "def magic_square(matrix):\n",
    "    \n",
    "    length = len(matrix)\n",
    "    sumdiagnal = 0 \n",
    "    \n",
    "    for i in range (length):\n",
    "        sumdiagnal += matrix [i][i]\n",
    "\n",
    "\n",
    "    for row in range (length):\n",
    "        if sum(matrix[row]) == sum(matrix[0]) and sum(matrix[row]) == sumdiagnal:\n",
    "            return True\n",
    "        else:\n",
    "            return False\n",
    "\n",
    "\n",
    "magic_square([[2, 7, 6], [9, 5, 1], [4, 3, 8]])"
   ]
  },
  {
   "cell_type": "code",
   "execution_count": null,
   "metadata": {},
   "outputs": [],
   "source": [
    "def check_left_diagonal(square, dimension_sum, length):\n",
    "\n",
    "    ld_sum = 0\n",
    "    \n",
    "    for j in range(length):\n",
    "        ld_sum += square[j][j]\n",
    "        \n",
    "    return ld_sum == dimension_sum\n",
    "\n",
    "\n",
    "def check_right_diagonal(square, dimension_sum, length):\n",
    "    column = length - 1\n",
    "    rd_sum = 0\n",
    "    \n",
    "    for row in range(length):\n",
    "        rd_sum += square[row][column]\n",
    "        column = column - 1    \n",
    "\n",
    "    return rd_sum == dimension_sum\n",
    "\n",
    "\n",
    "def check_row_sum(square, dimension_sum, length):\n",
    "    rows_same = True\n",
    "\n",
    "    for i in range(length):\n",
    "        sum_of_row = 0\n",
    "\n",
    "        for j in range(length):\n",
    "            sum_of_row += square[i][j]\n",
    "        \n",
    "        if sum_of_row != dimension_sum:\n",
    "            rows_same = False\n",
    "            break          \n",
    "        \n",
    "    return rows_same\n",
    "\n",
    "\n",
    "def check_column_sum(square, dimension_sum, length):\n",
    "    \n",
    "    columns_same = True\n",
    "\n",
    "    for j in range(length):\n",
    "        sum_of_column = 0\n",
    "\n",
    "        for i in range(length):\n",
    "            sum_of_column += square[j][i]\n",
    "        \n",
    "        if sum_of_column != dimension_sum:\n",
    "            columns_same = False\n",
    "            break          \n",
    "        \n",
    "    return columns_same\n",
    "\n",
    "\n",
    "def is_magic_square(sq):\n",
    "\n",
    "    # Assume array is square, find the dimension\n",
    "    square_length = len(sq[0])\n",
    "\n",
    "    # Find the sum of first column\n",
    "    target_sum = 0\n",
    "    for i in range(square_length):\n",
    "        target_sum += sq[0][i]\n",
    "\n",
    "    # Now check all dimensions\n",
    "    \n",
    "    # Columns \n",
    "    col_sum_same = check_column_sum(sq, target_sum, square_length)\n",
    "\n",
    "    # Rows \n",
    "    row_sum_same = check_row_sum(sq, target_sum, square_length)\n",
    "    \n",
    "    # Left diagonal - top left to bottom right    \n",
    "    left_diagonal_same = check_left_diagonal(sq, target_sum, square_length)\n",
    "\n",
    "    # Right diagonal - top right to bottom left    \n",
    "    right_diagonal_same = check_right_diagonal(sq, target_sum, square_length)\n",
    "\n",
    "    is_magic = col_sum_same and row_sum_same and left_diagonal_same and right_diagonal_same\n",
    "        \n",
    "    return is_magic\n",
    "    \n",
    "\n",
    "# Magic squares\n",
    "def main():\n",
    "    \n",
    "    square1 = [[1, 2, 3], [4, 5, 6], [7, 8, 9]]\n",
    "    square2 = [[2, 7, 6], [9, 5, 1], [4, 3, 8]]\n",
    "    square3 = [[3, 4, 5], [3, 5, 4], [5, 4, 3]]\n",
    "    square4 = [[16, 3, 2, 13], [5, 10, 11, 8], [9, 6, 7, 12], [4, 15, 14, 1]]\n",
    "\n",
    "    works1 = is_magic_square(square1)\n",
    "    print(\"square1 is\", works1)\n",
    "    works2 = is_magic_square(square2)\n",
    "    print(\"square2 is\", works2)\n",
    "    works3 = is_magic_square(square3)\n",
    "    print(\"square3 is\", works3)\n",
    "    works4 = is_magic_square(square4)\n",
    "    print(\"square4 is\", works4)\n",
    "\n",
    "\n",
    "if __name__ == \"__main__\":\n",
    "    main()\n"
   ]
  },
  {
   "cell_type": "markdown",
   "metadata": {},
   "source": [
    "Strings \n",
    "1. Write a function called repl() that accepts a string and a number of repetitions as parameters and \n",
    "returns the string concatenated that many times. For example, the call repl(\"hello\", 3) should return \"hellohellohello\". If the number of repetitions is zero or less, the function should return an empty string. Do not use the string * operator in your solution; use a cumulative algorithm ."
   ]
  },
  {
   "cell_type": "code",
   "execution_count": 12,
   "metadata": {},
   "outputs": [
    {
     "name": "stdout",
     "output_type": "stream",
     "text": [
      "hellohellohellohello\n"
     ]
    }
   ],
   "source": [
    "def repl(string, number):\n",
    "    length = len(string)\n",
    "    if number > 0 :\n",
    "        print (string[0:length]*number)\n",
    "    else: \n",
    "        print (\"\")\n",
    "\n",
    "repl(\"hello\",4)"
   ]
  },
  {
   "cell_type": "code",
   "execution_count": null,
   "metadata": {},
   "outputs": [],
   "source": [
    "def repl(string, num_times):\n",
    "    return(num_times * string)\n",
    "\n",
    "def main():\n",
    "    print(repl(\"Hello\", 6))\n",
    "\n",
    "if __name__ == \"__main__\":\n",
    "    main()"
   ]
  },
  {
   "cell_type": "markdown",
   "metadata": {},
   "source": [
    "2. Write a function called xo() that accepts an integer size as a parameter and prints a square of size \n",
    "by size -characters, where all characters are “o” except that an “x” pattern of “x” characters has been \n",
    "drawn from the corners of the square. On the first line, the first and last characters are \"x\"; on the \n",
    "second line, the second and -second-from-last characters are \"x\"; and so on. For example, the calls \n",
    "of xo(5) and xo(6) should produce the following outputs, respectively: \n",
    "xooox \n",
    "oxoxo \n",
    "ooxoo \n",
    "oxoxo \n",
    "xooox \n",
    " \n",
    "xoooox \n",
    "oxooxo \n",
    "ooxxoo \n",
    "ooxxoo \n",
    "oxooxo \n",
    "xoooox"
   ]
  },
  {
   "cell_type": "code",
   "execution_count": 2,
   "metadata": {},
   "outputs": [
    {
     "name": "stdout",
     "output_type": "stream",
     "text": [
      "xooox\n",
      "oxoxo\n",
      "ooxoo\n",
      "oxoxo\n",
      "xooox\n",
      "\n",
      "xoooox\n",
      "oxooxo\n",
      "ooxxoo\n",
      "ooxxoo\n",
      "oxooxo\n",
      "xoooox\n",
      "\n"
     ]
    }
   ],
   "source": [
    "def xo(n):\n",
    "    for i in range(n):\n",
    "        for j in range(n):\n",
    "            if j == i or j == (n - i) - 1:\n",
    "                print('x', end = '')\n",
    "            else:\n",
    "                print('o', end = '')\n",
    "        print()\n",
    "    print()\n",
    "\n",
    "def main():\n",
    "    xo(5)\n",
    "    xo(6)\n",
    "\n",
    "\n",
    "if __name__ == \"__main__\":\n",
    "    main()\n",
    "\n",
    "#j == (n - i) - 1 ?????"
   ]
  },
  {
   "cell_type": "markdown",
   "metadata": {},
   "source": [
    "3. Write a function called print_palindrome() that prompts the user to enter one or more words \n",
    "and  prints  whether  the  entered  string  is  a  palindrome  (i.e.,  reads  the  same  forwards  as  it  does \n",
    "backwards, like \"abba\" or \"racecar\"). For an added challenge, make the code case-insensitive, so that \n",
    "words  like  \"Abba\"  and  \"Madam\" will  be  considered  palindromes.  Note: you  must not  Python  slice \n",
    "notation x [::-1] to reverse your string in your solution."
   ]
  },
  {
   "cell_type": "code",
   "execution_count": 3,
   "metadata": {},
   "outputs": [],
   "source": [
    "def print_palindrome(word):\n",
    "    if len(word) % 2 == 0:\n",
    "        for character in range (len(word) % 2):\n",
    "            if word[character] == word[-character]:\n",
    "                return True\n",
    "            else:\n",
    "                return False\n",
    "    if len(word) % 2 != 0:\n",
    "        for character in range ((len(word)-1) % 2):\n",
    "            if word[character] == word[-character]:\n",
    "                return True\n",
    "            else:\n",
    "                return False\n",
    "            \n",
    "#not working???\n",
    "print_palindrome(\"zaaz\")"
   ]
  },
  {
   "cell_type": "code",
   "execution_count": null,
   "metadata": {},
   "outputs": [],
   "source": [
    "def print_palindrome(string):\n",
    "    reversed_string = \"\"\n",
    "    for i in range(len(string) - 1, -1, -1):\n",
    "        reversed_string += string[i]\n",
    "        \n",
    "    if reversed_string.lower() == string.lower():\n",
    "        print(f\"\\n'{string}' is a palindrome\")\n",
    "    else:\n",
    "        print(f\"\\n'{string}' is not a palindrome\")\n",
    "    \n",
    "def main():\n",
    "     print_palindrome(\"abba\")\n",
    "     print_palindrome(\"racecar\")\n",
    "     print_palindrome(\"COMP0015\")\n",
    "\n",
    "if __name__ == \"__main__\":\n",
    "    main()\n",
    "\n",
    "#for i in range(len(string) - 1, -1, -1) step要设定为负一 从右往左"
   ]
  },
  {
   "cell_type": "markdown",
   "metadata": {},
   "source": [
    "4. A  useful  technique  for  catching  typing  errors  is  to  use  a  check  digit.  For  example,  suppose  that  a \n",
    "school assigns a six-digit number to each student. A seventh digit can be determined from the other \n",
    "digits with the use of the following formula:  \n",
    "     7th digit = (1 * (1st digit) + 2 * (2nd digit) + .. . + 6 * (6th digit)) % 10 \n",
    "When a user types in a  student  number,  the  user  types  all  seven  digits. If the number is typed \n",
    "incorrectly, the check digit will fail to match in 90% of the cases. Write  an interactive program that \n",
    "prompts    for    a    six-digit  student    number    and  reports  the  check  digit  for  that  number,  using  the \n",
    "preceding formula."
   ]
  },
  {
   "cell_type": "code",
   "execution_count": 7,
   "metadata": {},
   "outputs": [
    {
     "name": "stdout",
     "output_type": "stream",
     "text": [
      "4\n"
     ]
    }
   ],
   "source": [
    "def calculate_check_digit(student_number):\n",
    "    # 初始化校验位\n",
    "    check_digit = 0\n",
    "    \n",
    "    # 计算校验位\n",
    "    for i in range(len(student_number)):\n",
    "        check_digit += (i+1) * int(student_number[i])\n",
    "    \n",
    "    # 取模运算得到最终校验位\n",
    "    check_digit %= 10\n",
    "    \n",
    "    return check_digit\n",
    "\n",
    "# 主程序开始\n",
    "if __name__ == \"__main__\":\n",
    "    # 用户输入\n",
    "    student_number = input(\"请输入六位学生编号: \")\n",
    "    \n",
    "    # 确保输入的是六位数字\n",
    "    if len(student_number) == 6 and student_number.isdigit():\n",
    "        # 计算校验位\n",
    "        check_digit = calculate_check_digit(student_number)\n",
    "        # 显示校验位\n",
    "        print(\"校验位是:\", check_digit)\n",
    "    else:\n",
    "        print(\"输入的不是六位数字，请重新输入。\")\n"
   ]
  },
  {
   "cell_type": "markdown",
   "metadata": {},
   "source": [
    "Write a function named count_distinct that accepts a string as a parameter and returns a list of each element counting how many occurrences of one distinct character in the input.\n",
    " Note that characters are considered case-sensitive (e.g., ‘a’ and ‘A’ are different.)\n",
    "\n",
    "Here are some example calls to the function and expected return results:\n",
    "\n",
    "revision 5 - examples (Hard)\n",
    "\n",
    "Explanation: For the call with ID 1, as the string “look” has 1 character ‘l’, 2 characters ‘o’, and 1 character ‘k’, the value returned is [1, 2, 1]. Similarly, with the call with ID 2, as the string “Hello World” has 1 character ‘H’, 1 character ‘e’, 3 characters ‘l’, 2 characters ‘o’, 1 character ‘ ’ (the space), 1 character ‘W’ 1 character ‘r’, and 1 character ‘d’, the value returned is [1, 1, 3, 2, 1, 1, 1, 1]."
   ]
  },
  {
   "cell_type": "code",
   "execution_count": 3,
   "metadata": {},
   "outputs": [
    {
     "name": "stdout",
     "output_type": "stream",
     "text": [
      "[2, 2, 1]\n"
     ]
    }
   ],
   "source": [
    "def count_distinct(s):\n",
    "    char_count = {}\n",
    "    for char in s:\n",
    "        if char in char_count:\n",
    "            char_count[char] += 1\n",
    "        else: \n",
    "            char_count[char] = 1\n",
    "    return list(char_count.values())\n",
    "\n",
    "# Example usage\n",
    "print(count_distinct(\"llook\"))"
   ]
  },
  {
   "cell_type": "code",
   "execution_count": 4,
   "metadata": {},
   "outputs": [],
   "source": [
    "def count_distinct(string):\n",
    "\n",
    "\tif len(string)<1:\n",
    "\n",
    "\t\treturn []\n",
    "\n",
    "\tcharacters=[string[0]]\n",
    "\n",
    "\tappearances=[0]\n",
    "\n",
    "\tfor i in range(len(string)):\n",
    "\n",
    "\t\t\tif string[i] not in characters:\n",
    "\n",
    "\t\t\t\tcharacters.append(string[i])\n",
    "\n",
    "\t\t\t\tappearances.append(0)\n",
    "\n",
    "\t\t\t\tappearances[characters.index(string[i])]+=1\n",
    "\n",
    "\t\t\telse:\n",
    "\n",
    "\t\t\t\tappearances[characters.index(string[i])]+=1\n",
    "\n",
    "\treturn appearances"
   ]
  },
  {
   "cell_type": "code",
   "execution_count": 1,
   "metadata": {},
   "outputs": [
    {
     "name": "stdout",
     "output_type": "stream",
     "text": [
      "     *\n",
      "    ***\n",
      "   *****\n",
      "  *******\n",
      " *********\n",
      "     |\n",
      "     |\n",
      "     |\n"
     ]
    }
   ],
   "source": [
    "#Week 2 Revision - Input & Output (Medium)\n",
    "def tree(corwn,trunk):\n",
    "    for i in range (corwn):\n",
    "        print (\" \"*(corwn-i-1),\"*\"*(2*i+1))\n",
    "    for y in range (trunk):\n",
    "        print (\" \"*(corwn-1), \"|\")\n",
    "tree(5,3)"
   ]
  },
  {
   "cell_type": "markdown",
   "metadata": {},
   "source": [
    "Quiz 3 - Perfectly Numerical\n",
    "A natural number b is a divisor of another natural number a when there exists a natural number c such that b * c = a. Every number n>1 has at least two distinct divisors: n and 1, since n * 1 = 1 * n = n.\n",
    "Many numbers have more than two divisors. For example, 6 has four divisors: 6, 3, 2, 1.\n",
    "We call a number n > 1 perfect when the sum of all of its divisors, except for n itself, are equal to n.\n",
    "For example, 6 is perfect since 3 + 2 + 1 = 6.\n",
    "Your task: Write a function that takes as a parameter an integer n > 1, prints on the screen all perfect numbers strictly less than n."
   ]
  },
  {
   "cell_type": "markdown",
   "metadata": {},
   "source": [
    "#Week 3 revision [Medium]\n",
    "Write a program that reads a positive integer n and outputs the sum of all the multiples of 3 or 5 less than n.\n",
    "For example,\n",
    "- If the user enters n = 10, then your program outputs 23, (because 23 = 3 + 5 + 6 +9)\n",
    "- If the user enters a negative number, e.g. n = -1, then your program informs that the input is not valid."
   ]
  },
  {
   "cell_type": "code",
   "execution_count": 6,
   "metadata": {},
   "outputs": [
    {
     "data": {
      "text/plain": [
       "23"
      ]
     },
     "execution_count": 6,
     "metadata": {},
     "output_type": "execute_result"
    }
   ],
   "source": [
    "def sum_multiple (n):\n",
    "    sum = 0 \n",
    "    if n < 0:\n",
    "        print(\"input not valid\")\n",
    "\n",
    "    for i in range (n):\n",
    "        if i%3 == 0 or i%5 == 0 and i < n:\n",
    "            sum+= i\n",
    "    return sum\n",
    "\n",
    "\n",
    "sum_multiple(10)\n"
   ]
  },
  {
   "cell_type": "markdown",
   "metadata": {},
   "source": [
    "Week 4 - Revision [Medium]\n",
    "\n",
    "Write a function print_random_lines that has two parameters. The first controls the number of lines that are printed, the second controls the maximum number of symbols that are printed on each line. A random number of symbols are printed on each line up to and including the maximum number specified. The second parameter is optional with a default value of 3.\n",
    "\n",
    "\n",
    "The pattern below is one possible output where the number of lines is set to 5 and the maximum possible number of of symbols per line is 20.\n",
    "\n",
    "\n",
    "###### (6)\n",
    "############### (15)\n",
    "#### (4)\n",
    "######### (9)\n",
    "########### (11)"
   ]
  },
  {
   "cell_type": "code",
   "execution_count": 8,
   "metadata": {},
   "outputs": [
    {
     "name": "stdout",
     "output_type": "stream",
     "text": [
      "## ( 2 )\n",
      "## ( 2 )\n",
      "## ( 2 )\n",
      "# ( 1 )\n"
     ]
    }
   ],
   "source": [
    "import random\n",
    "def print_random_lines(number_of_line, max):\n",
    "    for i in range (1,number_of_line+1):\n",
    "        \n",
    "        if max == \" \":\n",
    "            x = random.randint(0,3)\n",
    "            print(\"#\"*x,\"(\",x,\")\")\n",
    "        else:\n",
    "            x = random.randint(0,max)\n",
    "            print(\"#\"*x,\"(\",x,\")\")\n",
    "\n",
    "print_random_lines(4,2)"
   ]
  },
  {
   "cell_type": "code",
   "execution_count": 26,
   "metadata": {},
   "outputs": [
    {
     "name": "stdout",
     "output_type": "stream",
     "text": [
      "## ( 2 )\n",
      "########## ( 10 )\n",
      "######## ( 8 )\n",
      "########### ( 11 )\n"
     ]
    }
   ],
   "source": [
    "import random\n",
    "def print_random_lines(number_of_line, max = 3):\n",
    "    for i in range (1,number_of_line+1):\n",
    "        x = random.randint(0,max)\n",
    "        print(\"#\"*x,\"(\",x,\")\")\n",
    "\n",
    "print_random_lines(4,15)"
   ]
  }
 ],
 "metadata": {
  "kernelspec": {
   "display_name": "Python 3",
   "language": "python",
   "name": "python3"
  },
  "language_info": {
   "codemirror_mode": {
    "name": "ipython",
    "version": 3
   },
   "file_extension": ".py",
   "mimetype": "text/x-python",
   "name": "python",
   "nbconvert_exporter": "python",
   "pygments_lexer": "ipython3",
   "version": "3.11.5"
  }
 },
 "nbformat": 4,
 "nbformat_minor": 2
}
