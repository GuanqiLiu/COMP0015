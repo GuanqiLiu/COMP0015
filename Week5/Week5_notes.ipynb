{
 "cells": [
  {
   "cell_type": "markdown",
   "metadata": {},
   "source": [
    "Strings and Characters\n",
    "String is a sequence of character\n",
    "\n",
    "HARRY\n",
    "01234\n"
   ]
  },
  {
   "cell_type": "code",
   "execution_count": 8,
   "metadata": {},
   "outputs": [
    {
     "name": "stdout",
     "output_type": "stream",
     "text": [
      "y\n",
      "y\n",
      "5\n",
      "y\n",
      "Hello\n",
      "Hello\n",
      "Hello, world!\n",
      "The p is in the  potter\n",
      "harry\n",
      "HARRY\n",
      "None\n",
      "Harry\n",
      "Ha77y\n"
     ]
    }
   ],
   "source": [
    "name = \"Harry\"\n",
    "print (name[4])\n",
    "\n",
    "\n",
    "length = len(name) \n",
    "print(name[length - 1])\n",
    "#在Python中，字符串的索引是从0开始的。例如，字符串 \"hello\" 的 'h' 是索引0，'e' 是索引1\n",
    "\n",
    "print (length)\n",
    "\n",
    "print(name[-1]) #count backwards from the end of the string\n",
    "\n",
    "greeting = \"Hello, world!\"\n",
    "print(greeting[0:5])\n",
    "print(greeting[:5])\n",
    "\n",
    "print(greeting[:]) #print the whole string\n",
    "\n",
    "#Use the in operator to check if a substring is in a string\n",
    "x = \"potter\"\n",
    "if 'p' in x:         # in / not in \n",
    "    print (\"The p is in the \",x)\n",
    "\n",
    "#String mothods\n",
    "#string are immutable,能create a new string,不能改变原来的string\n",
    "\n",
    "print(name.lower())  #creating a new string\n",
    "name_lower = print(name.upper())\n",
    "print(name_lower)\n",
    "print(name)\n",
    "print(name.replace(\"r\",\"7\")) #把r变成7\n",
    "\n",
    "x = x + \"Wizard\"\n",
    "print(x)  #x = x + \"Wizard\" 也是创建一个新的string, overwrite the old string"
   ]
  },
  {
   "cell_type": "code",
   "execution_count": 17,
   "metadata": {
    "notebookRunGroups": {
     "groupValue": "1"
    }
   },
   "outputs": [
    {
     "name": "stdout",
     "output_type": "stream",
     "text": [
      "xemalp\n",
      "natoeh rxemalp.e\n"
     ]
    }
   ],
   "source": [
    "def swap_pairs (the_string):\n",
    "    \n",
    "    new_string = \"\"\n",
    "    offset = 1 \n",
    "\n",
    "    if len(the_string) % 2 != 0: \n",
    "        offset = 2\n",
    "\n",
    "    for  i in range (0, len(the_string) - offset, 2): #range(start, stop, step) 两两相换 even number，step = 2 i = 0,2,4\n",
    "        new_string += the_string[i+1]\n",
    "        new_string += the_string[i]\n",
    "    \n",
    "    return new_string\n",
    "\n",
    "def main ():\n",
    "    print (swap_pairs(\"example\"))\n",
    "    print (swap_pairs(\"another example.\"))\n",
    "\n",
    "if __name__ == \"__main__\":\n",
    "    main()"
   ]
  },
  {
   "cell_type": "markdown",
   "metadata": {},
   "source": [
    "List"
   ]
  },
  {
   "cell_type": "code",
   "execution_count": null,
   "metadata": {},
   "outputs": [],
   "source": [
    "values = [32,54,67,89,90]\n",
    "print(value[0]) \n",
    "print(value[1])\n",
    "\n",
    "values[0] = 100  #change the value of list elements\n",
    "print(values[0])\n",
    "print(values[0:3])\n",
    "print(values[-4:]) #print the last 4 elements\n"
   ]
  },
  {
   "cell_type": "code",
   "execution_count": null,
   "metadata": {},
   "outputs": [],
   "source": [
    "#iterating over a list\n",
    "# A doctor has 10 patients\n",
    "patientAgeList [2, 5, 92,27,73, 14, 58, 44, 67,10]\n",
    "totalAge = 0\n",
    "# Use range () with len() to find the elements.\n",
    "#changing value of the elements in the list 只能用这个\n",
    "for counter in range (len (patientAgeList)): \n",
    "totalAge += patientAgeList [counter]\n",
    "\n",
    "# Use Python's \"in\" operator\n",
    "for age in patientAgeList:\n",
    "    totalAge += age\n",
    "print (\"Average patient's age: {:.2f}\".format (totalAge / len (patientAgeList)))"
   ]
  },
  {
   "cell_type": "code",
   "execution_count": null,
   "metadata": {},
   "outputs": [],
   "source": [
    "#Don't use a for loop when you are removing elements from the list as you are iterating over it. Imagine that you want to remove all words from a list of words that have less than 4 letters.\n",
    "# Code to remove words less than 4 characters long.\n",
    "\n",
    "#BEWARE!!!!! This doesn't work!\n",
    "words = [\"Welcome\", \"to\",\"the\", \"island!\"]\n",
    "print (\"\\n\", words)\n",
    "for i in range (len (words)):\n",
    "    word = words [i]\n",
    "    print (\"\\ti:{},{}\".format (i, words [i]))\n",
    "    if len (word) < 4 :\n",
    "        words.pop(i)\n",
    "print (\"\\n\", words)"
   ]
  },
  {
   "cell_type": "code",
   "execution_count": 29,
   "metadata": {},
   "outputs": [
    {
     "name": "stdout",
     "output_type": "stream",
     "text": [
      "\n",
      " ['Welcome', 'to', 'the', 'island!']\n",
      "\n",
      "\ti: (), ()\n",
      "\ti: (), ()\n",
      "\ti: (), ()\n",
      "\ti: (), ()\n",
      "\n",
      " ['Welcome', 'island!']\n"
     ]
    }
   ],
   "source": [
    "def main () :\n",
    "    words = [\"Welcome\", \"to\", \"the\", \"island!\"]\n",
    "    \n",
    "    print (\"\\n\", words)\n",
    "    i = 0\n",
    "    print ()\n",
    "\n",
    "    while i < len (words) :\n",
    "        print (\"\\ti: (), ()\". format (i, words [i]))\n",
    "        word = words [i]\n",
    "        if len (word) < 4 :\n",
    "            words.pop (i)\n",
    "        else:\n",
    "            i = i + 1\n",
    "    print (\"\\n\", words)\n",
    "\n",
    "\n",
    "if __name__ == \"__main__\":\n",
    "    main ()\n",
    "\n",
    "#??????????"
   ]
  },
  {
   "cell_type": "code",
   "execution_count": 2,
   "metadata": {},
   "outputs": [
    {
     "ename": "NameError",
     "evalue": "name 'friends' is not defined",
     "output_type": "error",
     "traceback": [
      "\u001b[0;31m---------------------------------------------------------------------------\u001b[0m",
      "\u001b[0;31mNameError\u001b[0m                                 Traceback (most recent call last)",
      "\u001b[1;32m/Users/shiyi/Desktop/COMP0015/Week5/Week5_notes.ipynb Cell 10\u001b[0m line \u001b[0;36m2\n\u001b[1;32m      <a href='vscode-notebook-cell:/Users/shiyi/Desktop/COMP0015/Week5/Week5_notes.ipynb#X12sZmlsZQ%3D%3D?line=0'>1</a>\u001b[0m \u001b[39m#in operator\u001b[39;00m\n\u001b[0;32m----> <a href='vscode-notebook-cell:/Users/shiyi/Desktop/COMP0015/Week5/Week5_notes.ipynb#X12sZmlsZQ%3D%3D?line=1'>2</a>\u001b[0m \u001b[39mif\u001b[39;00m \u001b[39m\"\u001b[39m\u001b[39mCindy\u001b[39m\u001b[39m\"\u001b[39m \u001b[39min\u001b[39;00m friends:\n\u001b[1;32m      <a href='vscode-notebook-cell:/Users/shiyi/Desktop/COMP0015/Week5/Week5_notes.ipynb#X12sZmlsZQ%3D%3D?line=2'>3</a>\u001b[0m     \u001b[39mprint\u001b[39m (\u001b[39m\"\u001b[39m\u001b[39mShe is my friend\u001b[39m\u001b[39m\"\u001b[39m)\n\u001b[1;32m      <a href='vscode-notebook-cell:/Users/shiyi/Desktop/COMP0015/Week5/Week5_notes.ipynb#X12sZmlsZQ%3D%3D?line=4'>5</a>\u001b[0m \u001b[39m#Append (add sth at the end of the list) Quick\u001b[39;00m\n",
      "\u001b[0;31mNameError\u001b[0m: name 'friends' is not defined"
     ]
    }
   ],
   "source": [
    "#in operator\n",
    "if \"Cindy\" in friends:\n",
    "    print (\"She is my friend\")\n",
    "\n",
    "#Append (add sth at the end of the list) Quick\n",
    "friends = []\n",
    "friends.append(\"Cindy\")\n",
    "\n",
    "#Insert (add things and pistion in the list) Slow\n",
    "friends.insert(0,\"Cindy\")\n",
    "\n",
    "#Concatenation\n",
    "x = [1,2,3]\n",
    "y = [4,5,6]\n",
    "z = x + y\n",
    "\n",
    "#Replication \n",
    "monthlyScores = [0] * 12\n",
    "#monthlyScores = [0,0,0,0,0,0,0,0,0,0,0,0]\n",
    "\n",
    "#Equality == compare two list have same elements and order\n",
    "\n",
    "[1,2,3] == [1,2,3] #True\n",
    "[1,2,3] == [3,2,1] #False\n",
    "\n",
    "#list comprehension\n",
    "numb1 = [1,2,3,4,5]\n",
    "numb2 = [n*n for n in numb1]\n",
    "\n",
    "#pop: remove the last elements from the list or from the given position\n",
    "x = [1,2,3]\n",
    "x.pop(2)\n",
    "print"
   ]
  },
  {
   "cell_type": "markdown",
   "metadata": {},
   "source": [
    "Tuple 不可变\n",
    "Tuple is a special type of list you can't change\n",
    "Often provided multiple return value from a function\n",
    "tuple 使用圆括号 () 表示，而 list 使用方括号 []"
   ]
  },
  {
   "cell_type": "code",
   "execution_count": 32,
   "metadata": {},
   "outputs": [
    {
     "name": "stdout",
     "output_type": "stream",
     "text": [
      "(1, 2)\n",
      "1\n",
      "2\n"
     ]
    }
   ],
   "source": [
    "def f1():\n",
    "    return 1, 2\n",
    "\n",
    "print(f1())  \n",
    "\n",
    "var1= f1()\n",
    "print(var1[0])\n",
    "print(var1[1])"
   ]
  },
  {
   "cell_type": "markdown",
   "metadata": {},
   "source": [
    "Using Lists with Functions\n",
    "• We know that when we pass arguments to functions, the function gets a local copy of the value passed in. These local copies are called parameters or local parameters. We can modify the local copy in the function but those changes cannot be seen outside of the function.\n",
    "• There is an exception to that rule and that is when data structures such as lists, sets and dictionaries are used as arguments.\n",
    "\n",
    "Yes, you can modify lists, but why is that?\n",
    "Python passes a copy of the memory address of the list to function so you can change the values in the list."
   ]
  },
  {
   "cell_type": "code",
   "execution_count": 35,
   "metadata": {},
   "outputs": [
    {
     "name": "stdout",
     "output_type": "stream",
     "text": [
      "Enter 5 numbers:\n",
      "10.010.010.010.010.0\n"
     ]
    }
   ],
   "source": [
    "def readFloats (numberofInputs) :\n",
    "    print (\"Enter\", numberofInputs, \"numbers:\") \n",
    "    inputs = [ ]\n",
    "    for i in range (numberofInputs):\n",
    "        value = float (input (\"\"))\n",
    "        inputs .append (value)\n",
    "\n",
    "    return inputs\n",
    "## Multiplies all elements of a list by a factor.\n",
    "#@param values a list of numbers\n",
    "#@param factor the value with which element is multiplied\n",
    "\n",
    "def multiply (values, factor):\n",
    "    for i in range (len (values)) :\n",
    "        values [i] = values [i] * factor\n",
    "## prints a list in reverse order. param values a list of numbers\n",
    "\n",
    "def printReversed (values) :\n",
    "#Traverse the list in reverse order, starting with the last element\n",
    "    i = len (values) - 1\n",
    "    while i >= 0 :\n",
    "        print (values [i], end=\"\")\n",
    "        i  = i - 1\n",
    "    print ()\n",
    "\n",
    "def main () :\n",
    "    scores = readFloats (5)\n",
    "    multiply (scores, 10) \n",
    "    printReversed (scores)\n",
    "#Start the program.\n",
    "main ()"
   ]
  },
  {
   "cell_type": "markdown",
   "metadata": {},
   "source": [
    "List comprehensions and 2D lists\n",
    "\n",
    "A list comprehension is a way of specifying an expression that you would like to apply to every element of a list without using a for loop to iterate over the elements. The result is a new list."
   ]
  },
  {
   "cell_type": "code",
   "execution_count": 36,
   "metadata": {},
   "outputs": [
    {
     "name": "stdout",
     "output_type": "stream",
     "text": [
      "[1, 4, 9, 16, 25]\n"
     ]
    }
   ],
   "source": [
    "nums1 = [1,2,3,4,5]\n",
    "nums2 = [n*n for n in nums1]\n",
    "print(nums2)"
   ]
  },
  {
   "cell_type": "code",
   "execution_count": null,
   "metadata": {},
   "outputs": [],
   "source": [
    "#2D list\n",
    "name = [\n",
    "    [\"Harry\", \"Ron\", \"Hermione\"],\n",
    "    [\"Draco\", \"Crabbe\", \"Goyle\"],\n",
    "    [\"Fred\", \"George\", \"Neville\"]]\n",
    "\n",
    "temps = [[0]*5,[0]*5,[0]*5]\n",
    "len(temps) #numebr of rows\n",
    "len(temps[0]) #length of first row, number of columns\n",
    "\n",
    "\n",
    "#Ragged Lists : numbers of columns are different"
   ]
  },
  {
   "cell_type": "code",
   "execution_count": 46,
   "metadata": {},
   "outputs": [
    {
     "name": "stdout",
     "output_type": "stream",
     "text": [
      "[[0], 0, 0, 0, 0, 0, 0, 0, 0, 0, 0]\n",
      "[[1], [0, 0], 0, 0, 0, 0, 0, 0, 0, 0, 0]\n",
      "[[1], [1, 1], [0, 0, 0], 0, 0, 0, 0, 0, 0, 0, 0]\n",
      "[[1], [1, 1], [1, 2, 1], [0, 0, 0, 0], 0, 0, 0, 0, 0, 0, 0]\n",
      "[[1], [1, 1], [1, 2, 1], [1, 3, 3, 1], [0, 0, 0, 0, 0], 0, 0, 0, 0, 0, 0]\n",
      "[[1], [1, 1], [1, 2, 1], [1, 3, 3, 1], [1, 4, 6, 4, 1], [0, 0, 0, 0, 0, 0], 0, 0, 0, 0, 0]\n",
      "[[1], [1, 1], [1, 2, 1], [1, 3, 3, 1], [1, 4, 6, 4, 1], [1, 5, 10, 10, 5, 1], [0, 0, 0, 0, 0, 0, 0], 0, 0, 0, 0]\n",
      "[[1], [1, 1], [1, 2, 1], [1, 3, 3, 1], [1, 4, 6, 4, 1], [1, 5, 10, 10, 5, 1], [1, 6, 15, 20, 15, 6, 1], [0, 0, 0, 0, 0, 0, 0, 0], 0, 0, 0]\n",
      "[[1], [1, 1], [1, 2, 1], [1, 3, 3, 1], [1, 4, 6, 4, 1], [1, 5, 10, 10, 5, 1], [1, 6, 15, 20, 15, 6, 1], [1, 7, 21, 35, 35, 21, 7, 1], [0, 0, 0, 0, 0, 0, 0, 0, 0], 0, 0]\n",
      "[[1], [1, 1], [1, 2, 1], [1, 3, 3, 1], [1, 4, 6, 4, 1], [1, 5, 10, 10, 5, 1], [1, 6, 15, 20, 15, 6, 1], [1, 7, 21, 35, 35, 21, 7, 1], [1, 8, 28, 56, 70, 56, 28, 8, 1], [0, 0, 0, 0, 0, 0, 0, 0, 0, 0], 0]\n",
      "[[1], [1, 1], [1, 2, 1], [1, 3, 3, 1], [1, 4, 6, 4, 1], [1, 5, 10, 10, 5, 1], [1, 6, 15, 20, 15, 6, 1], [1, 7, 21, 35, 35, 21, 7, 1], [1, 8, 28, 56, 70, 56, 28, 8, 1], [1, 9, 36, 84, 126, 126, 84, 36, 9, 1], [0, 0, 0, 0, 0, 0, 0, 0, 0, 0, 0]]\n",
      "1 \n",
      "1 1 \n",
      "1 2 1 \n",
      "1 3 3 1 \n",
      "1 4 6 4 1 \n",
      "1 5 10 10 5 1 \n",
      "1 6 15 20 15 6 1 \n",
      "1 7 21 35 35 21 7 1 \n",
      "1 8 28 56 70 56 28 8 1 \n",
      "1 9 36 84 126 126 84 36 9 1 \n",
      "1 10 45 120 210 252 210 120 45 10 1 \n"
     ]
    }
   ],
   "source": [
    "#pascal triangle ??????\n",
    "\n",
    "def fill_in (triangle):\n",
    "    for i in range (len (triangle)) :\n",
    "        triangle [i] = [0] * (i + 1)\n",
    "        print (triangle)   \n",
    "        triangle [i] [0] = 1\n",
    "        triangle [i] [i] = 1\n",
    "        for j in range (1, i) :\n",
    "            triangle [i][j] = triangle [i - 1][j - 1] + triangle[i - 1][j]\n",
    "#prints a 2D 1ist with one row on each 1ine\n",
    "#with elements separated by spaces.\n",
    "\n",
    "def print_nice (triangle) :\n",
    "    for i in range (len(triangle)) :\n",
    "        for j in range (len (triangle [i])) :\n",
    "            print (triangle [i][j], end=\" \")\n",
    "        print ()\n",
    "\n",
    "def main () :\n",
    "    triangle = [0] * 11\n",
    "    fill_in (triangle)\n",
    "    print_nice (triangle)\n",
    "\n",
    "main ()"
   ]
  }
 ],
 "metadata": {
  "kernelspec": {
   "display_name": "Python 3",
   "language": "python",
   "name": "python3"
  },
  "language_info": {
   "codemirror_mode": {
    "name": "ipython",
    "version": 3
   },
   "file_extension": ".py",
   "mimetype": "text/x-python",
   "name": "python",
   "nbconvert_exporter": "python",
   "pygments_lexer": "ipython3",
   "version": "3.11.5"
  }
 },
 "nbformat": 4,
 "nbformat_minor": 2
}
