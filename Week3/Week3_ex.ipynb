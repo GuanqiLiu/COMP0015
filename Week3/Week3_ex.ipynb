{
 "cells": [
  {
   "cell_type": "markdown",
   "metadata": {},
   "source": [
    "1. A certain cinema currently sells tickets for a full price of £6, but always sells tickets for half price to people who are less than 16 years old, and for a third of the price for people who are 60 years old or \n",
    "more. Write a program so that it produces the output below. Use f’ strings to format the output. \n",
    "\n",
    "Enter your age: 63 \n",
    "Your ticket costs 2.00 pounds."
   ]
  },
  {
   "cell_type": "code",
   "execution_count": 4,
   "metadata": {},
   "outputs": [
    {
     "name": "stdout",
     "output_type": "stream",
     "text": [
      "Your ticket costs 2.00 pounds.\n"
     ]
    }
   ],
   "source": [
    "def main ():\n",
    "    age = int(input(\"Enter your age: \"))\n",
    "\n",
    "    if age < 16:\n",
    "        print (\"Your ticket costs 3.00 pounds.\")\n",
    "    elif age > 60:\n",
    "            print (\"Your ticket costs 2.00 pounds.\")\n",
    "    else:\n",
    "            print (\"Your ticket costs 6.00 pounds.\")\n",
    "\n",
    "\n",
    "if __name__ == \"__main__\":\n",
    "    main()"
   ]
  },
  {
   "cell_type": "code",
   "execution_count": null,
   "metadata": {},
   "outputs": [],
   "source": [
    "def main():\n",
    "\n",
    "    age = int(input(\"Enter your age: \"))\n",
    "    if age >= 60:\n",
    "        ticket_price = FULL_TICKET_PRICE / 3\n",
    "    elif age < 16:\n",
    "        ticket_price = FULL_TICKET_PRICE / 2\n",
    "    else:\n",
    "        ticket_price = FULL_TICKET_PRICE\n",
    "        \n",
    "    print(f\"Your ticket costs {ticket_price:.2f}.\")\n",
    "\n",
    "\n",
    "if __name__ == \"__main__\":\n",
    "    main()"
   ]
  },
  {
   "cell_type": "markdown",
   "metadata": {},
   "source": [
    "2. In a certain country, people are required to do jury service if they are between the ages of 18 and \n",
    "65 (inclusive) and do not have a criminal record. Otherwise they are excluded from jury service. Use \n",
    "if-else statements to write a program, which allows the user to test if they are required to do jury \n",
    "service. The program should prompt for the user’s age and checks whether they have a criminal \n",
    "record as in the following example input/output:  \n",
    " \n",
    "Enter your age: 19 \n",
    "Do you have a criminal record (y/n): p \n",
    " \n",
    "Incorrect input. \n",
    "_________________________________________\n",
    "Enter your age: 20 \n",
    "Do you have a criminal record (y/n): n \n",
    " \n",
    "You are required to do jury service. \n",
    "_________________________________________\n",
    "Enter your age: 35 \n",
    "Do you have a criminal record (y/n): y \n",
    " \n",
    "You are excluded from jury service."
   ]
  },
  {
   "cell_type": "code",
   "execution_count": 6,
   "metadata": {},
   "outputs": [
    {
     "name": "stdout",
     "output_type": "stream",
     "text": [
      "\n",
      "Incorrect input\n"
     ]
    }
   ],
   "source": [
    "def main():\n",
    "    age = int(input(\"Enter your age: \"))\n",
    "    criminal_record = input(\"Do you have a criminal record? (y/n): \")\n",
    "\n",
    "    if age <= 0 or (criminal_record != 'y' and criminal_record != 'n'):\n",
    "        print(\"\\nIncorrect input\")\n",
    "    else:\n",
    "        if criminal_record == \"n\" and age >= 18 and age <= 60:\n",
    "            print (\"You are required to do jury service.\")\n",
    "        else :\n",
    "            print (\"You are excluded from jury service.\")\n",
    "    \n",
    "if __name__ == \"__main__\":\n",
    "    main()"
   ]
  },
  {
   "cell_type": "code",
   "execution_count": null,
   "metadata": {},
   "outputs": [],
   "source": [
    "def main():\n",
    "    age = int(input(\"Enter your age: \"))\n",
    "    criminal_record = input(\"Do you have a criminal record y/n: \")\n",
    "\n",
    "    if age <= 0 or (criminal_record != 'y' and criminal_record != 'n'):\n",
    "        print(\"\\nIncorrect input\")\n",
    "    else:\n",
    "        if age >= 18 and criminal_record.lower() == 'n':\n",
    "            print(\"\\nYou are required to do jury service.\")\n",
    "        else:\n",
    "            print(\"\\nYou are excluded from jury service.\")\n",
    "            \n",
    "            \n",
    "if __name__ == \"__main__\":\n",
    "    main()"
   ]
  },
  {
   "cell_type": "markdown",
   "metadata": {},
   "source": [
    "3. A certain company gives all employees a Christmas bonus of £50. In addition, it gives people it has \n",
    "employed for 10 years or more an extra £50 (making a total of £100), and people it has employed \n",
    "for 20 years or more an extra £100 (making a total of £150). Write a program that prompts an \n",
    "employee for his or her number of years of employment and then outputs the amount of Christmas \n",
    "bonus, as in the following example input/output: \n",
    " \n",
    "How many years have you been with the company? 16 \n",
    "You will receive a Christmas bonus of 100 pounds. "
   ]
  },
  {
   "cell_type": "code",
   "execution_count": 6,
   "metadata": {},
   "outputs": [
    {
     "name": "stdout",
     "output_type": "stream",
     "text": [
      "You will receive a Christmas bonus of 150 pounds.\n"
     ]
    }
   ],
   "source": [
    "def main():\n",
    "    year = int(input(\"How many years have you been with the company?\"))\n",
    "    if year < 10:\n",
    "        print (\"You will receive a Christmas bonus of 50 pounds.\")\n",
    "    elif year >= 10 and year < 20:\n",
    "        print (\"You will receive a Christmas bonus of 100 pounds.\")\n",
    "    else:\n",
    "        print (\"You will receive a Christmas bonus of 150 pounds.\")\n",
    "\n",
    "if __name__ == \"__main__\":\n",
    "    main()"
   ]
  },
  {
   "cell_type": "code",
   "execution_count": null,
   "metadata": {},
   "outputs": [],
   "source": [
    "BASIC_BONUS = 50\n",
    "\n",
    "\n",
    "def main():\n",
    "    \n",
    "    bonus = BASIC_BONUS\n",
    "    \n",
    "    years_service = int(input(\"How many years have you been with the company? \"))\n",
    "    \n",
    "    if years_service >= 20:\n",
    "        bonus += 100\n",
    "    elif years_service >= 10:\n",
    "        bonus += 50\n",
    "    \n",
    "    print(f\"You will receive a Christmas bonus of {bonus} pounds\")\n",
    "\n",
    "\n",
    "if __name__ == \"__main__\":\n",
    "    main()\n"
   ]
  },
  {
   "cell_type": "markdown",
   "metadata": {},
   "source": [
    "4. Write a program called random_tickets.py which tells the user whether or not they have won tickets for \n",
    "a concert. There is a 1 in 15 chance of winning 3 tickets, a 2 in 15 chance of winning 2 tickets, and a 4 in 15 chance of winning 1 ticket. Hint: use the Python random library to generate a random number. The \n",
    "program should output a message to the user such as:"
   ]
  },
  {
   "cell_type": "code",
   "execution_count": 39,
   "metadata": {},
   "outputs": [
    {
     "name": "stdout",
     "output_type": "stream",
     "text": [
      "You have won 1 ticket\n"
     ]
    }
   ],
   "source": [
    "import random \n",
    "value =(0,1,2,3)\n",
    "probabilities = (8/15,4/15,2/15,1/15)\n",
    "random = random.choices(value,weights = probabilities)\n",
    "if random == [1] or random == [0]: \n",
    "    print (\"You have won\" ,random[0], \"ticket\")\n",
    "else:\n",
    "    print (\"You have won\" ,random[0], \"tickets\")\n"
   ]
  },
  {
   "cell_type": "code",
   "execution_count": 15,
   "metadata": {},
   "outputs": [
    {
     "name": "stdout",
     "output_type": "stream",
     "text": [
      "You have won 0 tickets\n"
     ]
    }
   ],
   "source": [
    "from random import *\n",
    "\n",
    "\n",
    "def main():\n",
    "    lottery_result = randrange(15) + 1   # Will generate a result between 1 and 15\n",
    "\n",
    "    # Note: any numbers in the range could be chosen to represent the winning options\n",
    "    if lottery_result < 5:      # lottery_result is 1, 2, 3 or 4\n",
    "        number_of_tickets = 1\n",
    "    elif lottery_result < 7:    # lottery_result is 5 or 6\n",
    "        number_of_tickets = 2\n",
    "    elif lottery_result == 7:   # lottery result is 7\n",
    "        number_of_tickets = 3\n",
    "    else:\n",
    "        number_of_tickets = 0\n",
    "    \n",
    "    print(f\"You have won {number_of_tickets} ticket\", end=\"\")\n",
    "    print(\"s\" if number_of_tickets != 1 else \"\") \n",
    "\n",
    "\n",
    "if __name__ == \"__main__\":\n",
    "    main()\n"
   ]
  },
  {
   "cell_type": "markdown",
   "metadata": {},
   "source": [
    "5. Write a program that can determine whether a year entered by the user is a leap year (i.e. has 366 days). A year is a leap year if it is divisible by four, except that any year divisible by 100 is a leap year only if it is also divisible by 400. The program will produce output such as: \n",
    "\n",
    "1984 is a leap year. \n",
    " \n",
    "2018 is not a leap year."
   ]
  },
  {
   "cell_type": "code",
   "execution_count": 46,
   "metadata": {},
   "outputs": [
    {
     "name": "stdout",
     "output_type": "stream",
     "text": [
      "2018 is not a leap year.\n"
     ]
    }
   ],
   "source": [
    "def main ():\n",
    "    year = int(input(\"Enter a year: \"))\n",
    "    if year % 100 != 0 and year % 400 == 0:\n",
    "        print (year, \"is a leap year.\")\n",
    "    elif year % 4 == 0 and year % 100 != 0:\n",
    "        print (year, \"is a leap year.\")\n",
    "    else:\n",
    "        print (year, \"is not a leap year.\")\n",
    "if __name__ == \"__main__\":\n",
    "    main()"
   ]
  },
  {
   "cell_type": "code",
   "execution_count": null,
   "metadata": {},
   "outputs": [],
   "source": [
    "def main():\n",
    "    leap = False\n",
    "    \n",
    "    year = int(input(\"Enter a year: \"))\n",
    "    \n",
    "    if year % 400 == 0:\n",
    "        leap = True\n",
    "    elif year % 4 == 0 and year % 100 != 0:\n",
    "        leap = True\n",
    "        \n",
    "    print(f\"{year} is \", end=\"\")\n",
    "    print(\"\" if leap else \"not \", end=\"\")\n",
    "    print(\"a leap year\")\n",
    "\n",
    "\n",
    "if __name__ == \"__main__\":\n",
    "    main()"
   ]
  }
 ],
 "metadata": {
  "kernelspec": {
   "display_name": "Python 3",
   "language": "python",
   "name": "python3"
  },
  "language_info": {
   "codemirror_mode": {
    "name": "ipython",
    "version": 3
   },
   "file_extension": ".py",
   "mimetype": "text/x-python",
   "name": "python",
   "nbconvert_exporter": "python",
   "pygments_lexer": "ipython3",
   "version": "3.11.5"
  }
 },
 "nbformat": 4,
 "nbformat_minor": 2
}
