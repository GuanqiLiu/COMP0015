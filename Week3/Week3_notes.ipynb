{
 "cells": [
  {
   "cell_type": "markdown",
   "metadata": {},
   "source": [
    "Conditionals \n",
    "\n",
    "Software development :\n",
    "software design involves the design of algorithms \n",
    "An algoriyhm often written in pseudocode\n",
    "\n",
    "Flow of control (order)\n",
    "Sequence, loop, selection, input/output, funciton\n",
    "\n",
    "Conditional statement: if, if-else, if-elif-else\n",
    "\n",
    "== equal\n",
    "！= not equal \n",
    "\n",
    "python use the lexicographical ordering to compare string "
   ]
  },
  {
   "cell_type": "code",
   "execution_count": 3,
   "metadata": {},
   "outputs": [
    {
     "name": "stdout",
     "output_type": "stream",
     "text": [
      "A random number between 1 and 5 : 2\n"
     ]
    }
   ],
   "source": [
    "import random\n",
    "\n",
    "MIN = 1\n",
    "MAX = 5 \n",
    "\n",
    "def main():\n",
    "    random_number = random.randint(MIN, MAX)\n",
    "    print(\"A random number between \" + str (MIN), end = \"\")\n",
    "    print(\" and \" + str(MAX) + \" : \" + str(random_number))\n",
    "\n",
    "if __name__ == \"__main__\":\n",
    "    main()"
   ]
  },
  {
   "cell_type": "code",
   "execution_count": 11,
   "metadata": {},
   "outputs": [
    {
     "name": "stdout",
     "output_type": "stream",
     "text": [
      "\tNo, the answers were 5 and1. \n",
      "\n"
     ]
    }
   ],
   "source": [
    "import random\n",
    "MIN = 1\n",
    "MAX = 5\n",
    "def main () :\n",
    "    first_answer = random. randint (MIN, MAX)\n",
    "    second_answer = random. randint (MIN, MAX)\n",
    "    \n",
    "    first_guess = int (input (\"\\n\\tGuess the first number between \" + str (MIN) + \" and \" + str (MAX)))\n",
    "    second_guess = int (input (\"\\n\\tGuess the second number between \" + str (MIN) + \" and \" + str (MAX)))\n",
    "\n",
    "    if first_guess == first_answer:\n",
    "        if second_guess == second_answer:\n",
    "            print(\"\\tcorrect - well done!\")\n",
    "        else:\n",
    "            print (\"\\tNo, the answers were \", end='')\n",
    "            print (str (first_answer) + \" and \" + str (second_answer) + \". \\n\")\n",
    "    else:\n",
    "        print (\"\\tNo, the answers were \" ,end= '') \n",
    "        print (str (first_answer) + \" and \" + str (second_answer) + \". \\n\")\n",
    "\n",
    "if __name__ == \"__main__\":\n",
    "    main()"
   ]
  },
  {
   "cell_type": "code",
   "execution_count": 14,
   "metadata": {},
   "outputs": [],
   "source": [
    "import random\n",
    "MIN = 1\n",
    "MAX = 5\n",
    "def main () :\n",
    "    \n",
    "    first_answer = random. randint (MIN, MAX)\n",
    "    second_answer = random. randint (MIN, MAX)\n",
    "\n",
    "    first_guess = int (input (\"\\n\\tGuess the first number between \" + str (MIN) + \" and \" + str (MAX)))\n",
    "    second_guess = int (input (\"\\n\\tGuess the second number between \" + str (MIN) + \" and \" + str (MAX)))\n",
    "\n",
    "    ok_same_order = first_guess == first_answer and second_guess == second_answer\n",
    "    ok_other_order = first_guess == second_answer and second_guess == first_answer\n",
    "\n",
    "    if ok_same_order or ok_other_order:\n",
    "        print(\"\\tcorrect - well done!\")\n",
    "    else:\n",
    "        print (\"\\tNo, the answers were \" ,end= '') \n",
    "        print (str (first_answer) + \" and \" + str (second_answer) + \". \\n\")"
   ]
  },
  {
   "cell_type": "code",
   "execution_count": 6,
   "metadata": {},
   "outputs": [
    {
     "name": "stdout",
     "output_type": "stream",
     "text": [
      "\tNo, the answer was 5.\n",
      "\n"
     ]
    }
   ],
   "source": [
    "#Guessing with if statements\n",
    "\n",
    "import random\n",
    "\n",
    "MIN = 1\n",
    "MAX = 5 \n",
    "\n",
    "def main():\n",
    "     answer = random.randint(MIN, MAX)\n",
    "     guess = int(input(\"\\n\\t Guess the numnber between\" + str(MIN) \n",
    "                       + \" and \" + str(MAX) + \": \"))\n",
    "     if guess == answer:\n",
    "         print (\"\\tCorrent - well done!\")\n",
    "     else:   #或if guess != answer:\n",
    "         print (\"\\tNo, the answer was \" + str(answer)+ \".\\n\")\n",
    "\n",
    "if __name__ == \"__main__\":\n",
    "    main()"
   ]
  },
  {
   "cell_type": "code",
   "execution_count": null,
   "metadata": {},
   "outputs": [],
   "source": [
    "\n",
    "from math import sqrt\n",
    "\n",
    "EPSILON= 1E-14\n",
    "r = sqrt(2.0)\n",
    "if abs(r*r - 2.0) < EPSILON :\n",
    "    print(\" sqrt(2.0)squared is close to 2.0\")"
   ]
  },
  {
   "cell_type": "markdown",
   "metadata": {},
   "source": [
    "Boolean operators/logical operators \n",
    "use == to test equality\n"
   ]
  },
  {
   "cell_type": "code",
   "execution_count": 9,
   "metadata": {},
   "outputs": [
    {
     "data": {
      "text/plain": [
       "bool"
      ]
     },
     "execution_count": 9,
     "metadata": {},
     "output_type": "execute_result"
    }
   ],
   "source": [
    "age = 21\n",
    "type(age)\n",
    "name = \"John\"\n",
    "type(name)\n",
    "is_latel = True\n",
    "type(is_latel) #bool"
   ]
  },
  {
   "cell_type": "code",
   "execution_count": null,
   "metadata": {},
   "outputs": [],
   "source": [
    "100 <= x <= 200  #不是所有的语言都支持这种写法\n",
    "100 < = x and x <= 200    #这个更好 "
   ]
  }
 ],
 "metadata": {
  "kernelspec": {
   "display_name": "Python 3",
   "language": "python",
   "name": "python3"
  },
  "language_info": {
   "codemirror_mode": {
    "name": "ipython",
    "version": 3
   },
   "file_extension": ".py",
   "mimetype": "text/x-python",
   "name": "python",
   "nbconvert_exporter": "python",
   "pygments_lexer": "ipython3",
   "version": "3.11.5"
  }
 },
 "nbformat": 4,
 "nbformat_minor": 2
}
