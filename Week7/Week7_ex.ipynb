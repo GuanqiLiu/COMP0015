{
 "cells": [
  {
   "cell_type": "markdown",
   "metadata": {},
   "source": [
    "1. Write a function called intersect that accepts two dictionaries whose keys are strings and whose \n",
    "values are integers as parameters and returns a new dictionary containing only the key/value pairs that \n",
    "exist in both of the dictionaries. In order for a key/value pair to be included in your result, not only do \n",
    "both dictionaries need to contain a mapping for that key, but they need to map it to the same value. \n",
    "For example, if the two dictionaries passed are: \n",
    " \n",
    "{\"Janet\": 87, \"Logan\": 62, \"Whitaker\": 46, \"Alyssa\": 100, \"Stef\": 80, \n",
    "\"Jeff\": 88, \"Kim\": 52, \"Sylvia\": 95} \n",
    " \n",
    "{\"Logan\": 62, \"Kim\": 52, \"Whitaker\": 52, \"Jeff\": 88, \"Stef\": 80, \"Brian\": \n",
    "60, \"Lisa\": 83, \"Sylvia\": 87} \n",
    "your function would return  a new dictionary (the order of the key/value pairs does not matter). Using \n",
    "the dictionaries above, output from your program should look like this: \n",
    "Intersection: {\"Logan\": 62, \"Stef\": 80, \"Jeff\": 88, \"Kim\": 52}"
   ]
  },
  {
   "cell_type": "code",
   "execution_count": null,
   "metadata": {},
   "outputs": [],
   "source": [
    "\"\"\"\n",
    "Program name: intersect.py\n",
    "\n",
    "Description:\n",
    "\n",
    "This program contains a function named intersect which accepts 2 dictionaries containing key, value pairs of type\n",
    "{\"string\", integer} as parameters. The function returns a dictionary containing the set of elements contained in both\n",
    "dictionaries.\n",
    "\n",
    "\"\"\"\n",
    "\n",
    "\n",
    "def intersect(dictionary1, dictionary2):\n",
    "    the_intersection = {}\n",
    "    for k, v in dictionary1.items():\n",
    "        if k in dictionary2:\n",
    "            if v == dictionary2[k]:\n",
    "                the_intersection[k] = v\n",
    "\n",
    "    return the_intersection\n",
    "\n",
    "\n",
    "def main():\n",
    "    d1 = {\"Janet\": 87, \"Logan\": 62, \"Whitaker\": 46, \"Alyssa\": 100, \"Stef\": 80, \"Jeff\": 88, \"Kim\": 52, \"Sylvia\": 95}\n",
    "    d2 = {\"Logan\": 62, \"Kim\": 52, \"Whitaker\": 52, \"Jeff\": 88, \"Stef\": 80, \"Brian\": 60, \"Lisa\": 83, \"Sylvia\": 87}\n",
    "\n",
    "    print(\"Intersection: \", intersect(d1, d2))\n",
    "\n",
    "\n",
    "if __name__ == \"__main__\":\n",
    "    main()\n"
   ]
  },
  {
   "cell_type": "code",
   "execution_count": null,
   "metadata": {},
   "outputs": [],
   "source": [
    "def intersction (d1,d2):\n",
    "    the_intersection = {}\n",
    "    for key1, values1 in d1.items():\n",
    "        if key1 in d2:\n",
    "            if values1 == d2[key1]:\n",
    "                the_intersection[key1] = values1\n",
    "    return the_intersection"
   ]
  },
  {
   "cell_type": "markdown",
   "metadata": {},
   "source": [
    "2. Write a function called is_1_to_1 that accepts a dictionary whose keys and values are strings as its \n",
    "parameter and returns True if no two keys map to the same value. For example, for the following \n",
    "dictionary your function should return False because both Hawking and Newton map to the same \n",
    "value: \n",
    " \n",
    "{\"Marty\": \"206-9024\", \"Hawking\": \"123-4567\", \n",
    " \"Smith\": \"949-0504\", \"Newton\": \"123-4567\"} \n",
    "but for  the following dictionary  your function  should  return True because  each  key  maps to  a unique \n",
    "value: \n",
    "{\"Marty\": \"206-9024\", \"Hawking\": \"555-1234\", \n",
    " \"Smith\": \"949-0504\", \"Newton\": \"123-4567\"} \n",
    "The empty dictionary is considered 1-to-1 and returns True. \n",
    "Using the dictionaries above and an empty dictionary, output from your program should look like this: \n",
    "Dictionary:  {'Marty': '206-9024', 'Hawking': '123-4567', 'Smith': '949-\n",
    "0504', 'Newton': '123-4567'} does not have unique entries. \n",
    "Dictionary:  {'Marty': '206-9024', 'Hawking': '555-1234', 'Smith': '949-\n",
    " \n",
    "Dictionary:  {} has unique entries."
   ]
  },
  {
   "cell_type": "code",
   "execution_count": null,
   "metadata": {},
   "outputs": [],
   "source": [
    "def is_1_to_1(dictionary):\n",
    "    for key in dictionary:\n",
    "        if "
   ]
  }
 ],
 "metadata": {
  "kernelspec": {
   "display_name": "Python 3",
   "language": "python",
   "name": "python3"
  },
  "language_info": {
   "name": "python",
   "version": "3.11.5"
  }
 },
 "nbformat": 4,
 "nbformat_minor": 2
}
