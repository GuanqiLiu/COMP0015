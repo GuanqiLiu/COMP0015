{
 "cells": [
  {
   "cell_type": "markdown",
   "metadata": {},
   "source": [
    "Set: collection of unique items\n",
    "don't have order \n",
    "\n",
    "x = {\"Lily\"} \n",
    "set{} (empty set)\n",
    "set() convert any sequence in a set\n",
    "len() to obtain lenth \n",
    "\n",
    "if \"Lily\" in x:    (test very quickly)      in is testing one inside the other is not subset is element \n",
    "    print ()\n",
    "\n",
    "unorder\n",
    "use for loop \n",
    "for student in studentnumber:       \n",
    "    print(student)\n",
    "(turn set into a list 但每一次不一定是一样的list)\n",
    "\n",
    "for student in sorted(studentnumber):       (sorted order)\n",
    "    print(student)\n",
    "\n",
    "set don't contains duplicate\n",
    "studentnumber.add(\"Harry\")\n",
    "\n",
    "Remove \n",
    "x.discard(\"Harry\")    #harry不存在 则discard doing nothing ?\n",
    "x.remove(\"Harry\")    #一定要在 如果没有就会有问题 error\n",
    "\n",
    "Emplty\n",
    "x.clear()\n",
    "disjoint : no elements in common "
   ]
  },
  {
   "cell_type": "code",
   "execution_count": null,
   "metadata": {
    "vscode": {
     "languageId": "plaintext"
    }
   },
   "outputs": [],
   "source": []
  },
  {
   "cell_type": "markdown",
   "metadata": {},
   "source": [
    "Dictionary (a set of keys and their value)  unordered \n",
    "key : look things up\n",
    "value : what we get\n",
    "\n",
    "name = {}\n",
    "name = dict()\n",
    "\n",
    "name = {key:value, key: value}\n",
    "name = {\"Lily\":\"1312\"}\n",
    "\n",
    "Traversing a dictionary\n",
    "for name in phonebook:\n",
    "    print(name, phonebook[name])     #iterating the keys "
   ]
  }
 ],
 "metadata": {
  "language_info": {
   "name": "python"
  }
 },
 "nbformat": 4,
 "nbformat_minor": 2
}
