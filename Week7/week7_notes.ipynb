{
 "cells": [
  {
   "cell_type": "markdown",
   "metadata": {},
   "source": [
    "Set: collection of unique items\n",
    "don't have order \n",
    "\n",
    "x = {\"Lily\"} \n",
    "set{} (empty set)\n",
    "set() convert any sequence in a set\n",
    "len() to obtain lenth \n",
    "\n",
    "if \"Lily\" in x:    (test very quickly)      in is testing one inside the other is not subset is element \n",
    "    print ()\n",
    "\n",
    "unorder\n",
    "use for loop \n",
    "for student in studentnumber:       \n",
    "    print(student)\n",
    "(turn set into a list 但每一次不一定是一样的list)\n",
    "\n",
    "for student in sorted(studentnumber):       (sorted order)\n",
    "    print(student)\n",
    "\n",
    "set don't contains duplicate\n",
    "studentnumber.add(\"Harry\")  如果再加不会加但是不会有error\n",
    "\n",
    "Remove \n",
    "x.discard(\"Harry\")    #harry不存在 则discard doing nothing ?\n",
    "x.remove(\"Harry\")    #一定要在 如果没有就会有问题 error\n",
    "\n",
    "Emplty\n",
    "x.clear()\n",
    "disjoint : no elements in common "
   ]
  },
  {
   "cell_type": "markdown",
   "metadata": {},
   "source": [
    "Set : Collention of unitque item, can't have duplicate, unorder"
   ]
  },
  {
   "cell_type": "code",
   "execution_count": 3,
   "metadata": {},
   "outputs": [
    {
     "name": "stdout",
     "output_type": "stream",
     "text": [
      "{'Lily', 'Harry'}\n",
      "['Harry', 'Lily']\n",
      "{'Lily', 'Harry', 'Ella'}\n"
     ]
    }
   ],
   "source": [
    "StudentName = {\"Lily\",\"Harry\"}\n",
    "print(StudentName)\n",
    "\n",
    "Emptyset = set()   #creat with no argument\n",
    "\n",
    "#convert sequence into a set\n",
    "Studentlist = [\"Potter\"]\n",
    "StudentSet = set(Studentlist)\n",
    "\n",
    "print (sorted (StudentName))  #return to a list\n",
    "\n",
    "StudentName.add(\"Ella\")\n",
    "print(StudentName)"
   ]
  },
  {
   "cell_type": "code",
   "execution_count": null,
   "metadata": {},
   "outputs": [],
   "source": [
    "StudentName.discard(\"Ella\")\n",
    "# no effect if element not exsit\n",
    "\n",
    "StudentName.remove(\"ZZZ\")\n",
    "#raises an exception if not in element (error)\n",
    "\n",
    "StudentName.clear()\n",
    "#remmove all elements, leave an empty set"
   ]
  },
  {
   "cell_type": "code",
   "execution_count": null,
   "metadata": {},
   "outputs": [],
   "source": [
    "britain.union(Italy)\n",
    "# the elements appear in both sets without including duplicates\n",
    "britain.intersection(Italy)\n",
    "# the intersction of two sets without including duplicates\n",
    "britain.difference(Italy)\n",
    "#depend on the order of operands(操作对象)"
   ]
  },
  {
   "cell_type": "markdown",
   "metadata": {},
   "source": [
    "Operation\n",
    "value in set value not in set\n",
    "len(set)\n",
    "str (set)\n",
    "* set.add (value)\n",
    "set.clear ()\n",
    "set.isdisjoint (set2)\n",
    "set.pop ( )\n",
    "set.remove (value)\n",
    "set.update (sequence)\n",
    "\n",
    "Description\n",
    "returns True if the given value is found in the set returns True if the given value is not found number of elements in the set\n",
    "returns string representation such as \"f'a', 'b', 'c'}\" adds the given value to the set, if not already present removes all elements\n",
    "returns True if there are no elements in common between set and set2\n",
    "removes and returns one element from the set removes the given value from the set, if present adds all values from the sequence to the set, if not already present"
   ]
  },
  {
   "cell_type": "markdown",
   "metadata": {},
   "source": [
    "Dictionary (a set of keys and their value)  unordered \n",
    "key : look things up  (unique) \n",
    "value : what we get\n",
    "different key could have same value"
   ]
  },
  {
   "cell_type": "code",
   "execution_count": null,
   "metadata": {},
   "outputs": [],
   "source": [
    "name = {}\n",
    "name = dict()\n",
    "# empty disctionary "
   ]
  },
  {
   "cell_type": "code",
   "execution_count": 7,
   "metadata": {},
   "outputs": [
    {
     "name": "stdout",
     "output_type": "stream",
     "text": [
      "Lily 8888\n",
      "Zoela 123456\n"
     ]
    }
   ],
   "source": [
    "#name = {key:value, key: value}\n",
    "phonebook = {\"Lily\":\"1312\",\"Harry\":\"2222\"}\n",
    "phonebook[\"Lily\"]\n",
    "\n",
    "phonebook[\"Lily\"] = \"8888\"  #Change value in a dictionay \n",
    "phonebook[\"Lily\"]\n",
    "\n",
    "phonebook[\"Zoela\"] = \"3345\" #Add elements\n",
    "phonebook[\"Zoela\"] = \"123456\"  # key 不能相同 这样只是rewrite zoela number\n",
    "\n",
    "phonebook.pop(\"Harry\")   #remove  (will return the value you want to delete)\n",
    "\n",
    "#Traversing a dictionary   (unodered)\n",
    "for name in phonebook:\n",
    "    print(name, phonebook[name])     #iterating the keys "
   ]
  }
 ],
 "metadata": {
  "kernelspec": {
   "display_name": "Python 3",
   "language": "python",
   "name": "python3"
  },
  "language_info": {
   "codemirror_mode": {
    "name": "ipython",
    "version": 3
   },
   "file_extension": ".py",
   "mimetype": "text/x-python",
   "name": "python",
   "nbconvert_exporter": "python",
   "pygments_lexer": "ipython3",
   "version": "3.11.5"
  }
 },
 "nbformat": 4,
 "nbformat_minor": 2
}
