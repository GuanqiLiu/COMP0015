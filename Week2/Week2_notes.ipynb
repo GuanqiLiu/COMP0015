{
 "cells": [
  {
   "cell_type": "markdown",
   "metadata": {},
   "source": [
    "Vedio 1: Using variables and built-in function"
   ]
  },
  {
   "cell_type": "code",
   "execution_count": null,
   "metadata": {},
   "outputs": [],
   "source": [
    "age = 21\n",
    "print (age)\n",
    "\n",
    "#stirng variable\n",
    "name = \"Lily\"\n",
    "print (name)\n",
    "\n",
    "year_now = int(input(\"Enter the current year and press RETURN:\"))\n",
    "print(year_now)\n",
    "\n"
   ]
  },
  {
   "cell_type": "code",
   "execution_count": null,
   "metadata": {},
   "outputs": [],
   "source": [
    "\n",
    "age_now = int(input(\"Enter your current age in years: \"))\n",
    "print (age_now)\n",
    "MAXIMUM_AGE = 50 \n",
    "if age_now > MAXIMUM_AGE:\n",
    "    print(\"Too old!\")"
   ]
  },
  {
   "cell_type": "code",
   "execution_count": null,
   "metadata": {},
   "outputs": [],
   "source": [
    "# input function returns the value the user types in as a string\n",
    "# print function returns a string representation of the value\n",
    "print (abs(-173))\n",
    "\n",
    "price = 4.35\n",
    "quantity = 100\n",
    "total = price * quantity\n",
    "print (total)\n",
    "\n",
    "#should be 435.0 but it is 434.99999999999994\n",
    "print (round(total))"
   ]
  },
  {
   "cell_type": "markdown",
   "metadata": {},
   "source": [
    "Vedio 2 : Stings and input and output"
   ]
  },
  {
   "cell_type": "code",
   "execution_count": 19,
   "metadata": {},
   "outputs": [
    {
     "name": "stdout",
     "output_type": "stream",
     "text": [
      "\"Hello\", she said\n",
      "It's mine\n",
      "5\n",
      "0\n",
      "HarryPotter\n",
      "HarryHarryHarryHarryHarry\n",
      "He said, \"Hello\"\n",
      "C:\\Temp\\test.txt\n"
     ]
    }
   ],
   "source": [
    "print ('\"Hello\", she said')\n",
    "print (\"It's mine\")\n",
    "# lenth of the string is number of characters\n",
    "length = len (\"Hello\")\n",
    "print (length)\n",
    "length = len (\"\")\n",
    "print (length)\n",
    "\n",
    "name = \"Harry\"\n",
    "last_name = \"Potter\"\n",
    "print(name + last_name)\n",
    "print (name*5)\n",
    "\n",
    "# \\ ignore the \"\" meaning \n",
    "print (\"He said, \\\"Hello\\\"\")\n",
    "#如果要print\\ 则打两个\\\\\n",
    "print (\"C:\\\\Temp\\\\test.txt\")"
   ]
  },
  {
   "cell_type": "code",
   "execution_count": null,
   "metadata": {},
   "outputs": [],
   "source": [
    "name = input (\"Enter your name : \")\n",
    "print (name)\n",
    "\n",
    "#要得到一个value\n",
    "age_now = int(input(\"Enter your current age in years: \"))\n",
    "print (age_now)\n",
    "print (age_now + 1) #加1\n",
    "#float() function converts a string to a floating-point number\n",
    "\n"
   ]
  },
  {
   "cell_type": "code",
   "execution_count": 23,
   "metadata": {},
   "outputs": [
    {
     "name": "stdout",
     "output_type": "stream",
     "text": [
      "Quantity:  5  Unit price: 10.3450  Total: 51.73\n",
      "Quantity:          5  Unit price:             10.34500  Total:      51.73\n"
     ]
    }
   ],
   "source": [
    "price = 10.345\n",
    "quantity = 5\n",
    "total_cost = price * quantity \n",
    "print (f'Quantity: {quantity:2d}  Unit price: {price:.4f}  Total: {total_cost:.2f}')\n",
    "\n",
    "#print integer vairable quantity in a 2 character wide field\n",
    "#pirnt the float price with 4 decimal places\n",
    "\n",
    "print (f'Quantity: {quantity:10d}  Unit price: {price:20.5f}  Total: {total_cost: 10.2f}')\n",
    "#price:20.5f 20个空格，5个小数点"
   ]
  },
  {
   "cell_type": "markdown",
   "metadata": {},
   "source": [
    "Vedio 3 : for Loops"
   ]
  },
  {
   "cell_type": "code",
   "execution_count": null,
   "metadata": {},
   "outputs": [],
   "source": []
  }
 ],
 "metadata": {
  "kernelspec": {
   "display_name": "Python 3",
   "language": "python",
   "name": "python3"
  },
  "language_info": {
   "codemirror_mode": {
    "name": "ipython",
    "version": 3
   },
   "file_extension": ".py",
   "mimetype": "text/x-python",
   "name": "python",
   "nbconvert_exporter": "python",
   "pygments_lexer": "ipython3",
   "version": "3.11.5"
  },
  "orig_nbformat": 4
 },
 "nbformat": 4,
 "nbformat_minor": 2
}
