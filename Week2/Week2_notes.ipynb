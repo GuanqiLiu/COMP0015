{
 "cells": [
  {
   "cell_type": "markdown",
   "metadata": {},
   "source": [
    "Vedio 1: Using variables and built-in function"
   ]
  },
  {
   "cell_type": "code",
   "execution_count": null,
   "metadata": {},
   "outputs": [],
   "source": [
    "age = 21\n",
    "print (age)\n",
    "\n",
    "#stirng variable\n",
    "name = \"Lily\"\n",
    "print (name)\n",
    "\n",
    "year_now = int(input(\"Enter the current year and press RETURN:\"))\n",
    "print(year_now)\n",
    "\n"
   ]
  },
  {
   "cell_type": "code",
   "execution_count": null,
   "metadata": {},
   "outputs": [],
   "source": [
    "\n",
    "age_now = int(input(\"Enter your current age in years: \"))\n",
    "print (age_now)\n",
    "MAXIMUM_AGE = 50 \n",
    "if age_now > MAXIMUM_AGE:\n",
    "    print(\"Too old!\")"
   ]
  },
  {
   "cell_type": "code",
   "execution_count": null,
   "metadata": {},
   "outputs": [],
   "source": [
    "# input function returns the value the user types in as a string\n",
    "# print function returns a string representation of the value\n",
    "print (abs(-173))\n",
    "\n",
    "price = 4.35\n",
    "quantity = 100\n",
    "total = price * quantity\n",
    "print (total)\n",
    "\n",
    "#should be 435.0 but it is 434.99999999999994\n",
    "print (round(total))"
   ]
  },
  {
   "cell_type": "markdown",
   "metadata": {},
   "source": [
    "Vedio 2 : Stings and input and output"
   ]
  },
  {
   "cell_type": "code",
   "execution_count": 19,
   "metadata": {},
   "outputs": [
    {
     "name": "stdout",
     "output_type": "stream",
     "text": [
      "\"Hello\", she said\n",
      "It's mine\n",
      "5\n",
      "0\n",
      "HarryPotter\n",
      "HarryHarryHarryHarryHarry\n",
      "He said, \"Hello\"\n",
      "C:\\Temp\\test.txt\n"
     ]
    }
   ],
   "source": [
    "print ('\"Hello\", she said')\n",
    "print (\"It's mine\")\n",
    "# lenth of the string is number of characters\n",
    "length = len (\"Hello\")\n",
    "print (length)\n",
    "length = len (\"\")\n",
    "print (length)\n",
    "\n",
    "name = \"Harry\"\n",
    "last_name = \"Potter\"\n",
    "print(name + last_name)\n",
    "print (name*5)\n",
    "\n",
    "# \\ ignore the \"\" meaning \n",
    "print (\"He said, \\\"Hello\\\"\")\n",
    "#如果要print\\ 则打两个\\\\\n",
    "print (\"C:\\\\Temp\\\\test.txt\")"
   ]
  },
  {
   "cell_type": "code",
   "execution_count": null,
   "metadata": {},
   "outputs": [],
   "source": [
    "name = input (\"Enter your name : \")\n",
    "print (name)\n",
    "\n",
    "#要得到一个value\n",
    "age_now = int(input(\"Enter your current age in years: \"))\n",
    "print (age_now)\n",
    "print (age_now + 1) #加1\n",
    "#float() function converts a string to a floating-point number\n",
    "\n"
   ]
  },
  {
   "cell_type": "code",
   "execution_count": 23,
   "metadata": {},
   "outputs": [
    {
     "name": "stdout",
     "output_type": "stream",
     "text": [
      "Quantity:  5  Unit price: 10.3450  Total: 51.73\n",
      "Quantity:          5  Unit price:             10.34500  Total:      51.73\n"
     ]
    }
   ],
   "source": [
    "price = 10.345\n",
    "quantity = 5\n",
    "total_cost = price * quantity \n",
    "print (f'Quantity: {quantity:2d}  Unit price: {price:.4f}  Total: {total_cost:.2f}')\n",
    "\n",
    "#print integer vairable quantity in a 2 character wide field\n",
    "#pirnt the float price with 4 decimal places\n",
    "\n",
    "print (f'Quantity: {quantity:10d}  Unit price: {price:20.5f}  Total: {total_cost: 10.2f}')\n",
    "#price:20.5f 20个空格，5个小数点"
   ]
  },
  {
   "cell_type": "markdown",
   "metadata": {},
   "source": [
    "Vedio 3 : for Loops"
   ]
  },
  {
   "cell_type": "code",
   "execution_count": 1,
   "metadata": {},
   "outputs": [
    {
     "name": "stdout",
     "output_type": "stream",
     "text": [
      "0\n",
      "1\n",
      "2\n",
      "3\n",
      "4\n",
      "100\n",
      "101\n",
      "102\n",
      "103\n",
      "104\n",
      "10\n",
      "12\n",
      "14\n",
      "16\n",
      "18\n",
      "200\n",
      "199\n",
      "198\n",
      "197\n",
      "196\n",
      "195\n",
      "194\n",
      "193\n",
      "192\n",
      "191\n"
     ]
    }
   ],
   "source": [
    "# The for loop with a range function\n",
    "for i in range(5):\n",
    "    print(i)\n",
    "\n",
    "# start with start value, exclude the end value\n",
    "for i in range(100, 105):\n",
    "    print(i)\n",
    "\n",
    "#range(start, stop, step) 2 中间的间隔\n",
    "for i in range(10, 20, 2):\n",
    "    print(i)\n",
    "\n",
    "#step backward\n",
    "for i in range(200, 190, -1):\n",
    "    print(i)\n"
   ]
  },
  {
   "cell_type": "markdown",
   "metadata": {},
   "source": [
    "Vedio 4 : while Loops"
   ]
  },
  {
   "cell_type": "code",
   "execution_count": 19,
   "metadata": {},
   "outputs": [
    {
     "name": "stdout",
     "output_type": "stream",
     "text": [
      "\n",
      "\tPOUNDS\t\tEUROS\n",
      "\t3.00\t\t4.37\n",
      "\t13.00\t\t18.93\n",
      "\t23.00\t\t33.49\n"
     ]
    }
   ],
   "source": [
    "EXCHANGE_RATE = 1.456\n",
    "\n",
    "def main():\n",
    "   uk_amount = float (input(\"InEnter a starting amount in UK sterling: \"))\n",
    "   number_of_lines = int(input(\"InEnter the number of lines for the table: \"))\n",
    "  \n",
    "   print(\"\\n\\tPOUNDS\\t\\tEUROS\")\n",
    "\n",
    "   line_counter = 1\n",
    "\n",
    "   while line_counter <= number_of_lines:\n",
    "      print(\"\\t{:.2f}\\t\\t{:.2f}\".format(uk_amount, uk_amount * EXCHANGE_RATE))\n",
    "      uk_amount = uk_amount + 10\n",
    "      line_counter += 1\n",
    "\n",
    "if __name__ == \"__main__\":\n",
    "   main()   \n",
    "\n",
    "#\"\\t{:.2f}\\t\\t{:.2f}\" 是一个字符串，其中包含了两个占位符 {:.2f}，这些占位符将被实际的值替换。它们分别对应英镑和欧元的列。\n",
    "#\\t 是制表符，用于在文本中创建水平制表符，以使列对齐。\n",
    "#{:.2f} 是一个格式化占位符，表示将在这里插入一个浮点数，并将其格式化为带有两位小数的浮点数。\n",
    "#while loop 可以一直run，直到条件不满足"
   ]
  },
  {
   "cell_type": "code",
   "execution_count": 18,
   "metadata": {},
   "outputs": [
    {
     "name": "stdout",
     "output_type": "stream",
     "text": [
      "\n",
      "\tPOUNDS\t\tEUROS\n",
      "\t3.00\t\t4.37\n",
      "\t13.00\t\t18.93\n",
      "\t23.00\t\t33.49\n"
     ]
    }
   ],
   "source": [
    "def main():\n",
    "    EXCHANGE_RATE = 1.456\n",
    "\n",
    "    again = \"y\"\n",
    "\n",
    "    while again == 'y' :\n",
    "        uk_amount = float (input(\"\\nEnter a starting amount in UK sterling: \"))\n",
    "        number_of_lines = int(input(\"\\nEnter the number of lines for the table: \"))\n",
    "\n",
    "        print(\"\\n\\tPOUNDS\\t\\tEUROS\")\n",
    "\n",
    "        for line_counter in range(number_of_lines):\n",
    "            print(\"\\t{:.2f}\\t\\t{:.2f}\".format(uk_amount, uk_amount * EXCHANGE_RATE))\n",
    "            \n",
    "            uk_amount = uk_amount + 10\n",
    "        again = input(\"go again? (y/n): \")\n",
    "\n",
    "if __name__ == \"__main__\":\n",
    "    main()"
   ]
  },
  {
   "cell_type": "code",
   "execution_count": 22,
   "metadata": {},
   "outputs": [
    {
     "name": "stdout",
     "output_type": "stream",
     "text": [
      "You will retire in 40  years. \n",
      "\n"
     ]
    }
   ],
   "source": [
    "RETIREMENT_AGE = 70\n",
    "MAXAGE = 100\n",
    "\n",
    "def main():\n",
    "  users_age = int(input(\"\\nEnter your age: \"))\n",
    "\n",
    "  while users_age < 0 or users_age > MAXAGE:\n",
    "    print(\"\\tDon't be stupid! Enter your real age: \")\n",
    "    users_age = int(input(\"\\nEnter your age: \"))\n",
    "  \n",
    "  if users_age < RETIREMENT_AGE:\n",
    "    print(\"You will retire in \", end=\"\")\n",
    "    print (RETIREMENT_AGE - users_age,\" years. \\n\") \n",
    "  \n",
    "  elif users_age == RETIREMENT_AGE:\n",
    "    print(\"You will retire this year.\")\n",
    "  \n",
    "  elif users_age > RETIREMENT_AGE:\n",
    "    print (\"You retired \", end=\"\") \n",
    "    if users_age - RETIREMENT_AGE == 1:\n",
    "         print (users_age - RETIREMENT_AGE,\" year ago. \\n\")\n",
    "    else:\n",
    "         print (users_age - RETIREMENT_AGE,\" years ago. \\n\")\n",
    "\n",
    "if __name__ == \"__main__\":\n",
    "    main()"
   ]
  }
 ],
 "metadata": {
  "kernelspec": {
   "display_name": "Python 3",
   "language": "python",
   "name": "python3"
  },
  "language_info": {
   "codemirror_mode": {
    "name": "ipython",
    "version": 3
   },
   "file_extension": ".py",
   "mimetype": "text/x-python",
   "name": "python",
   "nbconvert_exporter": "python",
   "pygments_lexer": "ipython3",
   "version": "3.11.5"
  },
  "orig_nbformat": 4
 },
 "nbformat": 4,
 "nbformat_minor": 2
}
