{
 "cells": [
  {
   "cell_type": "code",
   "execution_count": 2,
   "metadata": {},
   "outputs": [
    {
     "name": "stdout",
     "output_type": "stream",
     "text": [
      "*\n",
      "**\n",
      "***\n",
      "****\n"
     ]
    }
   ],
   "source": [
    "#Loops ex Q1\n",
    "\n",
    "height = int(input(\"Enter the height of the triangle: \"))\n",
    "\n",
    "# Loop through each row of the triangle\n",
    "for i in range(1, height + 1):\n",
    "\n",
    "    # Print stars for the current row\n",
    "    for k in range(i):\n",
    "        print(\"*\", end=\"\")\n",
    "    \n",
    "    # Move to the next line for the next row\n",
    "    print()\n"
   ]
  },
  {
   "cell_type": "code",
   "execution_count": null,
   "metadata": {},
   "outputs": [],
   "source": [
    "height = 4\n",
    "for i in range (1,height+1):\n",
    "    print (\"*\"*i)"
   ]
  },
  {
   "cell_type": "code",
   "execution_count": null,
   "metadata": {},
   "outputs": [],
   "source": [
    "MARGIN = 10\n",
    "\n",
    "def main():\n",
    "    \n",
    "    height = int(input(\"\\n\\tEnter the height of the triangle: \"))\n",
    "    \n",
    "    print(\"\\n\\n\")\n",
    "    for i in range(1, height + 1):\n",
    "        print(\" \" * MARGIN, \"*\" * i)\n",
    "\n",
    "\n",
    "if __name__ == \"__main__\":\n",
    "    main()"
   ]
  },
  {
   "cell_type": "code",
   "execution_count": 17,
   "metadata": {},
   "outputs": [
    {
     "name": "stdout",
     "output_type": "stream",
     "text": [
      "***\n",
      "**\n",
      "*\n"
     ]
    }
   ],
   "source": [
    "#Q2\n",
    "\n",
    "height = int(input(\"Enter the height of the triangle: \"))\n",
    "\n",
    "\n",
    "for i in range(1, height + 1):\n",
    "    for k in range(height +1 - i):\n",
    "        print(\"*\", end=\"\")\n",
    "    \n",
    "   \n",
    "    print()"
   ]
  },
  {
   "cell_type": "code",
   "execution_count": null,
   "metadata": {},
   "outputs": [],
   "source": [
    "MARGIN = 10\n",
    "\n",
    "\n",
    "def main():\n",
    "    \n",
    "    height = int(input(\"\\n\\tEnter the height of the triangle: \"))\n",
    "    print()\n",
    "\n",
    "    for num_stars in range(height, 0, -1):     #从后往前倒数\n",
    "         print(\" \" * MARGIN, \"*\" * num_stars)\n",
    "\n",
    "\n",
    "if __name__ == \"__main__\":\n",
    "    main()\n"
   ]
  },
  {
   "cell_type": "code",
   "execution_count": 6,
   "metadata": {},
   "outputs": [
    {
     "name": "stdout",
     "output_type": "stream",
     "text": [
      "    *\n",
      "   ***\n",
      "  *****\n",
      " *******\n"
     ]
    }
   ],
   "source": [
    "height = 4\n",
    "for i in range (1,height + 1):\n",
    "    print (\" \"*(height - i), \"*\"*(2*i - 1))"
   ]
  },
  {
   "cell_type": "code",
   "execution_count": 7,
   "metadata": {},
   "outputs": [
    {
     "name": "stdout",
     "output_type": "stream",
     "text": [
      " *******\n",
      "  *****\n",
      "   ***\n",
      "    *\n"
     ]
    }
   ],
   "source": [
    "height = 4\n",
    "for i in range (height,0,-1):\n",
    "    print (\" \"*(height - i), \"*\"*(2*i - 1))"
   ]
  },
  {
   "cell_type": "code",
   "execution_count": 21,
   "metadata": {},
   "outputs": [
    {
     "name": "stdout",
     "output_type": "stream",
     "text": [
      "       *\n",
      "      ***\n",
      "     *****\n",
      "    *******\n",
      "   *********\n",
      "  ***********\n",
      " *************\n"
     ]
    }
   ],
   "source": [
    "#Q3\n",
    "\n",
    "height = int(input(\"Enter the height of the triangle: \"))\n",
    "\n",
    "for i in range(1, height + 1):\n",
    "\n",
    "    for j in range(height +1 - i):\n",
    "        print(\" \", end=\"\")\n",
    "\n",
    "    for k in range(2*i - 1):\n",
    "        print(\"*\", end=\"\")\n",
    "    \n",
    "    \n",
    "    print()\n"
   ]
  },
  {
   "cell_type": "code",
   "execution_count": null,
   "metadata": {},
   "outputs": [],
   "source": [
    "\n",
    "MARGIN = 10\n",
    "SYMBOL = \"*\"\n",
    "\n",
    "\n",
    "def main():\n",
    "    \n",
    "    height = int(input(\"\\n\\tEnter the height of the pyramid: \"))\n",
    "    \n",
    "    print(\"\\n\\n\")\n",
    "\n",
    "\n",
    "    for num_spaces in range(height - 1, -1, -1):\n",
    "        print(\" \" * MARGIN, \" \" * num_spaces, end=\"\")\n",
    "        num_symbols = (height - num_spaces) * 2 - 1\n",
    "        print(SYMBOL * num_symbols)\n",
    "\n",
    "\n",
    "if __name__ == \"__main__\":\n",
    "    main()\n"
   ]
  },
  {
   "cell_type": "code",
   "execution_count": 30,
   "metadata": {},
   "outputs": [
    {
     "name": "stdout",
     "output_type": "stream",
     "text": [
      "\n",
      "\tCELSIUS\t\tFAHRENHEIT\n",
      "\t35\t\t95.0\n",
      "\t37\t\t98.6\n",
      "\t39\t\t102.2\n",
      "\t41\t\t105.8\n",
      "\t43\t\t109.4\n"
     ]
    }
   ],
   "source": [
    "#Q4\n",
    "\n",
    "def main():\n",
    "   CELSIUS = float(input (\"Enter the first amount in Celsius: \"))\n",
    "   number_of_lines = int(input(\"Enter the number of lines for the table: \"))\n",
    "   difference_in_celsius = int(input(\"Enter a whole number difference between lines in Celsius:\"))\n",
    "   FAHRENHEIT = (9/5) * CELSIUS + 32\n",
    "   print(\"\\n\\tCELSIUS\\t\\tFAHRENHEIT\")\n",
    "   \n",
    "   line_counter = 1\n",
    "   while line_counter <= number_of_lines:\n",
    "         print(\"\\t{:.0f}\\t\\t{:.1f}\".format(CELSIUS, (9/5) * CELSIUS + 32))\n",
    "         CELSIUS = CELSIUS + difference_in_celsius\n",
    "         line_counter = line_counter + 1\n",
    "\n",
    "if __name__ == \"__main__\":\n",
    "   main()   \n",
    "\n",
    "#\\n: 表示换行符，它用于在文本中创建新的行。当遇到\\n时，文本将在当前位置断开并移到下一行。\n",
    "#\\t: 表示制表符，它用于在文本中创建水平制表停止（通常相当于四个空格）。它用于在文本中对齐文本或数据。\n",
    "#怎么在两列的名字和数字中间空两行？？？"
   ]
  },
  {
   "cell_type": "code",
   "execution_count": null,
   "metadata": {},
   "outputs": [],
   "source": [
    "#Q5\n",
    "\n",
    "def main():\n",
    "   AGE = float(input (\"Enter your age: \"))\n",
    "   Criminal_record = input(\"Do you have a criminal record? (y/n): \")\n",
    "\n",
    "   if Criminal_record != \"n\" and Criminal_record != \"y\":\n",
    "      print(\"Incorrect input.\")\n",
    "   else: \n",
    "      if 18 <= AGE <= 65 and Criminal_record == \"n\":\n",
    "         print(\"You are required to do jury service.\")\n",
    "      else:\n",
    "         print(\"You are excluded from jury service.\")\n",
    "     \n",
    "   \n",
    "if __name__ == \"__main__\":\n",
    "    main()\n",
    "   \n"
   ]
  },
  {
   "cell_type": "code",
   "execution_count": 2,
   "metadata": {},
   "outputs": [
    {
     "name": "stdout",
     "output_type": "stream",
     "text": [
      "\n",
      " Leap years in range 1200-1500\n",
      "\n",
      "1200, 1204, 1208, 1212, 1216, 1220, \n",
      "1224, 1228, 1232, 1236, 1240, 1244, \n",
      "1248, 1252, 1256, 1260, 1264, 1268, \n",
      "1272, 1276, 1280, 1284, 1288, 1292, \n",
      "1296, 1304, 1308, 1312, 1316, 1320, \n",
      "1324, 1328, 1332, 1336, 1340, 1344, \n",
      "1348, 1352, 1356, 1360, 1364, 1368, \n",
      "1372, 1376, 1380, 1384, 1388, 1392, \n",
      "1396, 1404, 1408, 1412, 1416, 1420, \n",
      "1424, 1428, 1432, 1436, 1440, 1444, \n",
      "1448, 1452, 1456, 1460, 1464, 1468, \n",
      "1472, 1476, 1480, 1484, 1488, 1492, \n",
      "1496.\n"
     ]
    }
   ],
   "source": [
    "#Q6\n",
    "ROW_LENGTH = 6\n",
    "\n",
    "def main():\n",
    "\n",
    " \n",
    "\n",
    "    start_year = int(input(\"Enter the start year for the range: \"))\n",
    "\n",
    "    # Assume end of range is inclusive\n",
    "    end_year = int(input(\"Enter the end year for the range: \"))\n",
    "\n",
    "    # leapString -  a string containing all the leap years, formatted nicely\n",
    "    leap_string = \"\"\n",
    "\n",
    "    # rowCounter - Keep track of where we are in the row.\n",
    "    column = 1\n",
    "\n",
    "    # leap - flag used to check whether a year is a leap year\n",
    "    leap = False\n",
    "\n",
    "    # leapYear - the current leap year\n",
    "    # leap_year = 0\n",
    "\n",
    "    # Go through the range once to find the last leap year in the range.\n",
    "    last_leap_year = 0\n",
    "    for year in range(start_year, end_year + 1):\n",
    "        if year % 400 == 0:\n",
    "            last_leap_year = year\n",
    "        elif year % 4 == 0 and year % 100 != 0:\n",
    "            last_leap_year = year\n",
    "    \n",
    "    #\n",
    "\n",
    "    for year in range(start_year, end_year + 1):\n",
    "\n",
    "        if year % 400 == 0:\n",
    "            leap = True\n",
    "            leap_year = year\n",
    "        elif year % 4 == 0 and year % 100 != 0:\n",
    "            leap = True\n",
    "            leap_year = year\n",
    "        else:\n",
    "            leap = False\n",
    "\n",
    "        # Deal with print formatting\n",
    "\n",
    "        if leap:\n",
    "            if leap_year == last_leap_year:\n",
    "                leap_string = leap_string + str(leap_year) + \".\"\n",
    "            elif column == ROW_LENGTH:\n",
    "                leap_string = leap_string + str(leap_year) + \", \" + \"\\n\"\n",
    "                column = 1\n",
    "            else:\n",
    "                leap_string = leap_string + str(leap_year) + \", \"\n",
    "                column = column + 1\n",
    "\n",
    "\n",
    "    print(f\"\\n Leap years in range {start_year}-{end_year}\\n\")\n",
    "    print(leap_string)\n",
    "\n",
    "\n",
    "if __name__ == \"__main__\":\n",
    "    main()\n"
   ]
  },
  {
   "cell_type": "code",
   "execution_count": 1,
   "metadata": {},
   "outputs": [
    {
     "name": "stdout",
     "output_type": "stream",
     "text": [
      "1004,1008,1012,1016,1020,1024,1028,1032,1036,1040,1044,1048,1052,1056,1060,1064,1068,1072,1076,1080,1084,1088,1092,1096,1104,1108,1112,1116,1120,1124,1128,1132,1136,1140,1144,1148,1152,1156,1160,1164,1168,1172,1176,1180,1184,1188,1192,1196,1200,"
     ]
    }
   ],
   "source": [
    "start_year = 1000\n",
    "end_year = 1200\n",
    "for year in range(start_year, end_year + 1):\n",
    "        if year % 400 == 0:\n",
    "            print(year,end=\",\")\n",
    "        elif year % 4 == 0 and year % 100 != 0:\n",
    "            print(year,end=\",\")"
   ]
  },
  {
   "cell_type": "markdown",
   "metadata": {},
   "source": [
    "SimpleInputOutput Question"
   ]
  },
  {
   "cell_type": "code",
   "execution_count": 45,
   "metadata": {},
   "outputs": [
    {
     "name": "stdout",
     "output_type": "stream",
     "text": [
      "Your age in 2: 2\n"
     ]
    }
   ],
   "source": [
    "#Q1\n",
    "\n",
    "def main():\n",
    "    year_now = int(input(\"Enter the current year then press RETURN: \"))\n",
    "    age_now = int(input(\"Enter your current age in years: \"))\n",
    "    another_year = int(input(\"Enter the year in which you wish to know your age: \"))\n",
    "    another_age = another_year - (year_now - age_now)\n",
    "    print(\"Your age in {}: {}\".format(another_year, another_age))\n",
    "\n",
    "\n",
    "if __name__ == \"__main__\":\n",
    "    main()"
   ]
  },
  {
   "cell_type": "code",
   "execution_count": 47,
   "metadata": {},
   "outputs": [
    {
     "name": "stdout",
     "output_type": "stream",
     "text": [
      "The value of 'number' is 2 . \n",
      "The value of 'twice_number' is 4 .\n"
     ]
    }
   ],
   "source": [
    "#Q2\n",
    "\n",
    "def main ():\n",
    "    Number = int(input(\"Enter a value for 'number':\"))\n",
    "    Twice_number = Number * 2\n",
    "    print (\"The value of 'number' is\", Number, \".\", \n",
    "           \"\\nThe value of 'twice_number' is :\", Twice_number,\".\")\n",
    "    \n",
    "if __name__ == \"__main__\":\n",
    "    main()"
   ]
  },
  {
   "cell_type": "code",
   "execution_count": 3,
   "metadata": {},
   "outputs": [
    {
     "name": "stdout",
     "output_type": "stream",
     "text": [
      "The value of 'number' is 2.\n",
      "The value of 'twice_number' is: 4.\n"
     ]
    }
   ],
   "source": [
    "def main():\n",
    "    the_number = int(input(\"Enter a value for 'number': \"))\n",
    "    twice_number = the_number * 2\n",
    "    print(f\"The value of 'number' is {the_number}.\")\n",
    "    print(f\"The value of 'twice_number' is: {twice_number}.\")\n",
    "\n",
    "\n",
    "if __name__ == \"__main__\":\n",
    "    main()"
   ]
  },
  {
   "cell_type": "code",
   "execution_count": 50,
   "metadata": {},
   "outputs": [
    {
     "name": "stdout",
     "output_type": "stream",
     "text": [
      "You weren't born in 1\n"
     ]
    }
   ],
   "source": [
    "#Q3\n",
    "\n",
    "def main():\n",
    "    year_now = int(input(\"Enter the current year then press RETURN: \"))\n",
    "    age_now = int(input(\"Enter your current age in years: \"))\n",
    "    another_year = int(input(\"Enter the year in which you wish to know your age: \"))\n",
    "    another_age = another_year - (year_now - age_now)\n",
    "    if another_age > 150:\n",
    "       print(\"Sorry, but you'll probably be dead by\", another_year,\"!\")\n",
    "    else:\n",
    "        if another_age < 0:\n",
    "           print(\"You weren't born in\", another_year)\n",
    "        else:\n",
    "            print(\"Your age in {}: {}\".format(another_year, another_age))\n",
    "\n",
    "\n",
    "if __name__ == \"__main__\":\n",
    "    main()\n"
   ]
  },
  {
   "cell_type": "code",
   "execution_count": null,
   "metadata": {},
   "outputs": [],
   "source": [
    "def main():\n",
    "    year_now = int(input(\"Enter the current year then press RETURN: \"))\n",
    "    age_now = int(input(\"Enter your current age in years: \"))\n",
    "    another_year = int(input(\"Enter the year in which you wish to know your age: \"))\n",
    "    another_age = (another_year - year_now) + age_now\n",
    "\n",
    "    if another_age < age_now:\n",
    "        print(f\"You weren't born in {another_year - age_now}.\")\n",
    "    \n",
    "    if another_age > 150:\n",
    "        print(f\"Sorry, but you'll probably be dead by {another_year}!\")\n",
    "  \n",
    "    if 150 > another_age >= age_now:\n",
    "        print(f\"Your age in {another_year}: {another_age}\")\n",
    "\n",
    "\n",
    "if __name__ == \"__main__\":\n",
    "    main()"
   ]
  },
  {
   "cell_type": "code",
   "execution_count": 52,
   "metadata": {},
   "outputs": [
    {
     "name": "stdout",
     "output_type": "stream",
     "text": [
      "Your age in 10/2024 : 23 years and 5 months.\n"
     ]
    }
   ],
   "source": [
    "#Q4\n",
    "def main():\n",
    "    year_now = int(input(\"Enter the current year then press RETURN: \"))\n",
    "    month_now = int(input(\"Enter the current month (a number from 1 to 12): \"))\n",
    "    age_now = int(input(\"Enter your current age in years: \"))\n",
    "    month_born = int(input(\"Enter the month in which you were born (a number from 1 to 12) \"))\n",
    "    another_year = int(input(\"Enter the year for which you wish to know your age: \"))\n",
    "    another_month = int(input(\" Enter the month in this year: \"))\n",
    "    \n",
    "    if another_month >= month_born:\n",
    "        years = another_year - year_now + age_now\n",
    "        months = another_month - month_born\n",
    "        if months <= 1:\n",
    "          print(\"Your age in {}/{} : {} years and {} month.\"\n",
    "          .format(another_month, another_year, years, months))\n",
    "        else:\n",
    "            print(\"Your age in {}/{} : {} years and {} months.\"\n",
    "            .format(another_month, another_year, years, months))\n",
    "    else:\n",
    "        years = another_year - year_now + age_now - 1\n",
    "        months = 12 - month_born + another_month\n",
    "        if months <= 1:\n",
    "          print(\"Your age in {}/{} : {} years and {} month.\"\n",
    "          .format(another_month, another_year, years, months))\n",
    "        else:\n",
    "            print(\"Your age in {}/{} : {} years and {} months.\"\n",
    "            .format(another_month, another_year, years, months))\n",
    "        \n",
    "\n",
    "if __name__ == \"__main__\":\n",
    "    main()"
   ]
  },
  {
   "cell_type": "code",
   "execution_count": null,
   "metadata": {},
   "outputs": [],
   "source": [
    "\n",
    "def main():\n",
    "    year_now = int(input(\"Enter the current year then press RETURN: \"))\n",
    "    month_now = int(input(\"Enter the current month (a number from 1 to 12): \"))\n",
    "    age_now = int(input(\"Enter your current age in years: \"))\n",
    "    month_born = int(input(\"Enter the month in which you were born (a number from 1 to 12): \"))\n",
    "    another_year = int(input(\"Enter the year in which you wish to know your age: \"))\n",
    "    another_month = int(input(\"Enter the month in this year: \"))\n",
    "\n",
    "    # Convert everything to months and then do the same calculation\n",
    "\n",
    "    if month_now < month_born:\n",
    "        months_since_birthday = 12 + month_now - month_born\n",
    "    else:\n",
    "        months_since_birthday = month_now - month_born\n",
    "\n",
    "    age_now_in_months = age_now * 12 + months_since_birthday\n",
    "\n",
    "    another_year_in_months = another_year * 12 + another_month\n",
    "\n",
    "    another_age_in_months = another_year_in_months - ((year_now * 12 + month_now) - age_now_in_months)\n",
    "\n",
    "    if another_age_in_months < age_now_in_months:\n",
    "        print(\"The year and month for which you wish to know your age can't be in the past.\")\n",
    "\n",
    "    if another_age_in_months < 0:\n",
    "        print(f\"You weren't born in {another_year_in_months - age_now_in_months}.\")\n",
    "\n",
    "    if another_age_in_months > 150 * 12:\n",
    "        print(f\"Sorry, but you'll probably be dead by month {another_month}, {another_year}!\")\n",
    "\n",
    "    if 150 * 12 > another_age_in_months >= age_now_in_months:\n",
    "        if another_age_in_months % 12 == 1:\n",
    "            print(f\"Your age in {another_month}/{another_year} will be {int(another_age_in_months / 12)}\\\n",
    "                    years and {another_age_in_months % 12} month\")                                                                           ,\n",
    "        else:\n",
    "            print(f\"Your age in {another_month}/{another_year} will be {int(another_age_in_months / 12)}\\\n",
    "                    years and {another_age_in_months % 12} months\")                                                                           ,\n",
    "\n",
    "\n",
    "if __name__ == \"__main__\":\n",
    "    main()\n"
   ]
  },
  {
   "cell_type": "markdown",
   "metadata": {},
   "source": [
    "Week 2 Problems\n"
   ]
  },
  {
   "cell_type": "markdown",
   "metadata": {},
   "source": [
    "Q1\n",
    "1. Write a console program that displays all the numbers in the Fibonacci Sequence up to a given max, starting with 0. The Italian mathematician Leonardo Fibonacci devised the Fibonacci sequence as a way to model the growth of a population of rabbits. The first two terms in the sequence are 0 and 1, and every subsequent term is a sum of the previous two terms. (The Fibonacci sequence has numerous applications in computer science and shows up in surprising places. It's used to compute logarithms, index and retrieve data, and as a building block in some route-planning algorithms.)\n",
    "\n",
    "Output from one example run:\n",
    "\n",
    "This program lists the Fibonacci sequence.\n",
    "Max value? 10000\n",
    "0, 1, 1, 2, 3, 5, 8, 13, 21, 34, 55, 89, 144, 233, 377, 610, 987, 1597, 2584, 4181, 6765"
   ]
  },
  {
   "cell_type": "code",
   "execution_count": 9,
   "metadata": {},
   "outputs": [
    {
     "name": "stdout",
     "output_type": "stream",
     "text": [
      "0,1,1,2,3,5,"
     ]
    }
   ],
   "source": [
    "def main() :\n",
    "    Max = int(input(\"Max value? \"))\n",
    "    \n",
    "    a = 0\n",
    "    b = 1\n",
    "    while b <= Max:\n",
    "       print (a, end = ',')\n",
    "       next = a\n",
    "       a = b\n",
    "       b = next + b\n",
    "\n",
    "       \n",
    "\n",
    "if __name__ == \"__main__\":\n",
    "    main()"
   ]
  },
  {
   "cell_type": "markdown",
   "metadata": {},
   "source": [
    "2. Write a console program that prompts the user to type an integer and computes the sum of the digits of that integer. You may assume that the user types a non-negative integer. Match the following output format:\n",
    "\n",
    "Type an integer: 827104\n",
    "Digit sum is 22\n"
   ]
  },
  {
   "cell_type": "code",
   "execution_count": 4,
   "metadata": {},
   "outputs": [
    {
     "name": "stdout",
     "output_type": "stream",
     "text": [
      "Digit sum is 9\n"
     ]
    }
   ],
   "source": [
    "number = input(\"Enter an integer: \")\n",
    "\n",
    "digit_sum = 0 # Initialize the sum of digits to 0\n",
    "\n",
    "for digit in number:   # Calculate the sum of digits\n",
    "   \n",
    "    digit_sum += int(digit)  # Convert to an integer and add it to the sum\n",
    "\n",
    "print(\"Digit sum is\", digit_sum)\n"
   ]
  },
  {
   "cell_type": "markdown",
   "metadata": {},
   "source": [
    "3. Write a function named add_commas that accepts a string representing a number and returns a new string with a comma at every third position, starting from the right.\n",
    "\n",
    "For example, the call of add_commas(\"12345678\") returns \"12,345,678\". ？？？？？？？？？reverse"
   ]
  },
  {
   "cell_type": "code",
   "execution_count": 1,
   "metadata": {},
   "outputs": [
    {
     "name": "stdout",
     "output_type": "stream",
     "text": [
      "12,345,678\n"
     ]
    }
   ],
   "source": [
    "def main():\n",
    "\n",
    "    def add_commas(number_str):\n",
    "        \n",
    "        # Initialize variables\n",
    "        result = \"\"\n",
    "        count = 0\n",
    "        \n",
    "        # Iterate through the characters of the number string in reverse order\n",
    "        for char in reversed(number_str):\n",
    "            count += 1\n",
    "            result = char + result    # char \n",
    "            \n",
    "            # Add a comma after every third digit (except for the last group)\n",
    "            if count == 3 and len(number_str) > 3:\n",
    "                result = \",\" + result\n",
    "                count = 0\n",
    "        \n",
    "        return result\n",
    "\n",
    "    # Example usage:\n",
    "    number_str = \"12345678\"\n",
    "    formatted_number = add_commas(number_str)\n",
    "    print(formatted_number)  # Output: \"12,345,678\"\n",
    "\n",
    "\n",
    "if __name__ == \"__main__\":\n",
    "    main()\n",
    "\n",
    "         "
   ]
  },
  {
   "cell_type": "code",
   "execution_count": 8,
   "metadata": {},
   "outputs": [
    {
     "name": "stdout",
     "output_type": "stream",
     "text": [
      "12,345,678\n"
     ]
    }
   ],
   "source": [
    "def main():\n",
    "\n",
    "    def add_commas(number_str):\n",
    "        \n",
    "        # Initialize variables\n",
    "        result = \"\"\n",
    "        count = 0\n",
    "        \n",
    "        # Iterate through the characters of the number string in reverse order\n",
    "        for char in reversed(number_str):\n",
    "            count += 1\n",
    "            result = char + result\n",
    "            \n",
    "            # Add a comma after every third digit (except for the last group)\n",
    "            if count == 3 and len(number_str) > 3:\n",
    "                result = \",\" + result\n",
    "                count = 0\n",
    "        \n",
    "        return result\n",
    "\n",
    "    # Example usage:\n",
    "    number_str = \"12345678\"\n",
    "    formatted_number = add_commas(number_str)\n",
    "    print(formatted_number)  # Output: \"12,345,678\"\n",
    "\n",
    "if __name__ == \"__main__\":\n",
    "    main()"
   ]
  },
  {
   "cell_type": "markdown",
   "metadata": {},
   "source": [
    "4. Write a function named remove_duplicates that accepts a string parameter and returns a new string with all consecutive occurrences of the same character in the string replaced by a single occurrence of that character.\n",
    "\n",
    "For example, the call of remove_duplicates(\"bookkeeeeeper\") should return \"bokeper\"."
   ]
  },
  {
   "cell_type": "code",
   "execution_count": 7,
   "metadata": {},
   "outputs": [
    {
     "name": "stdout",
     "output_type": "stream",
     "text": [
      "bok\n"
     ]
    }
   ],
   "source": [
    "def main () :\n",
    "    \n",
    "\n",
    "    def remove_duplicates(input_str): \n",
    "        \n",
    "        result = input_str[0]\n",
    "\n",
    "        for i in range (1, len(input_str)):\n",
    "            if input_str[i] != input_str[i - 1]:  #!= means not equal to\n",
    "               result += input_str[i]\n",
    "\n",
    "        return result \n",
    "   \n",
    "\n",
    "    input_str = \"boooook\"\n",
    "    result_str = remove_duplicates(input_str)\n",
    "    print(result_str)\n",
    "\n",
    "\n",
    "if __name__ == \"__main__\":\n",
    "    main()"
   ]
  },
  {
   "cell_type": "code",
   "execution_count": null,
   "metadata": {},
   "outputs": [],
   "source": [
    "\n",
    "def main():\n",
    "\n",
    "    def remove_duplicates(input_str):\n",
    "\n",
    "        # Initialize the result string with the first character\n",
    "        result = input_str[0]\n",
    "\n",
    "        # Iterate through the string, appending only non-consecutive duplicates to the result\n",
    "        for i in range(1, len(input_str)):\n",
    "            if input_str[i] != input_str[i - 1]:\n",
    "                result += input_str[i]\n",
    "\n",
    "        return result\n",
    "\n",
    "    # Example usage:\n",
    "    input_str = \"bookkeeeeeper\"\n",
    "    result_str = remove_duplicates(input_str)\n",
    "    print(result_str)  # Output: \"bokeper\"\n",
    "\n",
    "if __name__ == \"__main__\":\n",
    "    main()\n"
   ]
  },
  {
   "cell_type": "markdown",
   "metadata": {},
   "source": [
    "5. Write a function named is_rotation that accepts two strings as parameters and returns true if they are rotations of each other. Two strings are considered rotations if they contain the same characters in the same relative order when wrapped around.\n",
    "\n",
    "For example, the call of is_rotation(\"abcde\", \"deabc\") should return True. The call of is_rotation(\"abcde\", \"edcba\") should return False because the characters are not in the same order.\n",
    "\n",
    "Note: a string is also considered to be its own rotation."
   ]
  },
  {
   "cell_type": "code",
   "execution_count": 7,
   "metadata": {},
   "outputs": [
    {
     "name": "stdout",
     "output_type": "stream",
     "text": [
      "True\n"
     ]
    }
   ],
   "source": [
    "def main () :\n",
    "    \n",
    "\n",
    "    def is_rotation (str1, str2):\n",
    "        if len(str1) != len(str2):\n",
    "            return False\n",
    "        str1 += str1\n",
    "        \n",
    "        if str2 in str1:\n",
    "            return True\n",
    "        else:\n",
    "            return False\n",
    "            \n",
    "    string1 = \"abcde\" \n",
    "    string2 = \"deabc\"\n",
    "    result = is_rotation(string1, string2)\n",
    "    print(result)  \n",
    "\n",
    "if __name__ == \"__main__\":\n",
    "    main()\n"
   ]
  },
  {
   "cell_type": "code",
   "execution_count": null,
   "metadata": {},
   "outputs": [],
   "source": [
    "\n",
    "def main():\n",
    "\n",
    "    def is_rotation(str1, str2):\n",
    "        # Check if the lengths of the strings are different\n",
    "        if len(str1) != len(str2):\n",
    "            return False\n",
    "\n",
    "        # Double the first string to check for rotations\n",
    "        str1 += str1\n",
    "\n",
    "        # Check if str2 is a substring of the doubled str1\n",
    "        if str2 in str1:\n",
    "            return True\n",
    "\n",
    "        return False\n",
    "\n",
    "    # Example usage:\n",
    "    string1 = \"abcde\" \n",
    "    string2 = \"deabc\"\n",
    "    result = is_rotation(string1, string2)\n",
    "    print(result)  # Output: True\n",
    "\n",
    "    string3 = \"abcde\"\n",
    "    string4 = \"edcba\"\n",
    "    result = is_rotation(string3, string4)\n",
    "    print(result)  # Output: False\n",
    "\n",
    "\n",
    "\n",
    "if __name__ == \"__main__\":\n",
    "    main()\n"
   ]
  }
 ],
 "metadata": {
  "kernelspec": {
   "display_name": "Python 3",
   "language": "python",
   "name": "python3"
  },
  "language_info": {
   "codemirror_mode": {
    "name": "ipython",
    "version": 3
   },
   "file_extension": ".py",
   "mimetype": "text/x-python",
   "name": "python",
   "nbconvert_exporter": "python",
   "pygments_lexer": "ipython3",
   "version": "3.11.5"
  }
 },
 "nbformat": 4,
 "nbformat_minor": 2
}
