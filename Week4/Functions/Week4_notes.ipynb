{
 "cells": [
  {
   "cell_type": "markdown",
   "metadata": {},
   "source": [
    "Using Function \n",
    "\n"
   ]
  },
  {
   "cell_type": "code",
   "execution_count": 3,
   "metadata": {},
   "outputs": [
    {
     "name": "stdout",
     "output_type": "stream",
     "text": [
      "6.76\n"
     ]
    }
   ],
   "source": [
    "cup_volume = round (6.759459,2)\n",
    "print (cup_volume)\n",
    "\n",
    "scope : a function can only access variables inside its scope  (local variables)"
   ]
  },
  {
   "cell_type": "code",
   "execution_count": null,
   "metadata": {},
   "outputs": [],
   "source": [
    "MAX_VALID_AGE = 120\n",
    "\n",
    "#make sure the age is valid\n",
    "def get_age () :\n",
    "    age_not_valid = True\n",
    "\n",
    "    while age_not_valid :\n",
    "        age = int (input (\"Enter your age:\"))\n",
    "        if age < 0 or age > MAX_VALID_AGE :\n",
    "            print (\"\\tDon't be stupid! Enter your real age:\")\n",
    "        else :\n",
    "            age_not_valid = False\n",
    "    return age\n",
    "\n",
    "RETIREMENT_AGE =65\n",
    "\n",
    "def main () :\n",
    "    users_age = get_age ()\n",
    "\n",
    "    if users_age < RETIREMENT_AGE :\n",
    "        print (\"You will retire in \" , end=\"\")\n",
    "        print (RETIREMENT_AGE - users_age,\" years. \\n\")\n",
    "    elif users_age == RETIREMENT_AGE:\n",
    "        print (\"you will retire this year.\")\n",
    "    elif users_age > RETIREMENT_AGE :\n",
    "        print (\"You retired \", end=\"\" )\n",
    "        if users_age - RETIREMENT_AGE == 1:\n",
    "            print (users_age - RETIREMENT_AGE,\" year ago. \\n\")\n",
    "        else :\n",
    "            print (users_age - RETIREMENT_AGE,\" years ago.in\")"
   ]
  },
  {
   "cell_type": "markdown",
   "metadata": {},
   "source": [
    "Parameter passing"
   ]
  },
  {
   "cell_type": "code",
   "execution_count": 4,
   "metadata": {},
   "outputs": [
    {
     "name": "stdout",
     "output_type": "stream",
     "text": [
      "\tNo, the answers were 3 and 2.\n",
      "\n"
     ]
    }
   ],
   "source": [
    "import random\n",
    "\n",
    "def guesses_ok(answer_a, answer_b, guess_a, guess_b):\n",
    "    \"\"\"\n",
    "    Checks the two guesses entered by the user against the two\n",
    "    randomly generated numbers.\n",
    "    # @params answer_A the first answer\n",
    "    # @params answer_B the second answer\n",
    "    # @params guess_A the first guess\n",
    "    # @params guess_B the second guess\n",
    "    # @return True or False\n",
    "    \"\"\"\n",
    "    ok_same_order = guess_a == answer_a and guess_b == answer_b\n",
    "    ok_other_order = guess_a == answer_b and guess_b == answer_a\n",
    "    return ok_same_order or ok_other_order\n",
    "\n",
    "\n",
    "def main():\n",
    "    min = 1\n",
    "    max = 3\n",
    "    \n",
    "    first_answer = random.randrange(min, max + 1)\n",
    "    second_answer = random.randrange(min, max + 1)\n",
    "    \n",
    "    first_guess = int(input(f\"\\n\\tGuess the first number between {min} and {max}: \"))\n",
    "    second_guess = int(input(f\"\\n\\tGuess the second number between {min} and {max}: \"))\n",
    "\n",
    "    if guesses_ok(first_answer, second_answer, first_guess, second_guess):\n",
    "        print(\"\\tCorrect - well done!\\n\")  \n",
    "    else:\n",
    "        print(f\"\\tNo, the answers were {first_answer} and {second_answer}.\\n\")\n",
    "\n",
    "\n",
    "# Start the program\n",
    "if __name__ == \"__main__\":\n",
    "    main()\n"
   ]
  },
  {
   "cell_type": "markdown",
   "metadata": {},
   "source": [
    "Parameters can be optional \n",
    "use end = \"\""
   ]
  },
  {
   "cell_type": "code",
   "execution_count": 9,
   "metadata": {},
   "outputs": [
    {
     "name": "stdout",
     "output_type": "stream",
     "text": [
      "cat says meow, dog says woof\n"
     ]
    }
   ],
   "source": [
    "print (\"cat says meow, \" , end= \"\")\n",
    "print (\"dog says woof\") # print on the same line with the previous print statement"
   ]
  },
  {
   "cell_type": "code",
   "execution_count": null,
   "metadata": {},
   "outputs": [],
   "source": [
    "def twice_number (the_number) :\n",
    "    the_number = the_number * 2\n",
    "    return the_number\n",
    "# ruturn means \"give back\" the value of the expression to the left of the return statement\n",
    "\n",
    "def main () :\n",
    "    the_number = int (input (\"Enter a value for 'number':\" ))\n",
    "    print (\"The value of 'number' is ().\".format (the_number))\n",
    "    new_number = twice_number (the number)\n",
    "    print (f\"The value of 'twice number' is: {new_number}.\")\n",
    "           \n",
    "if __name__ == \"__main__\" :\n",
    "    main ()"
   ]
  },
  {
   "cell_type": "markdown",
   "metadata": {},
   "source": [
    "use \"main\" to make sure all the the statement in your program are inside the fucntion\n",
    "main is the starting point of python interpreter \n",
    "\n",
    "if __name__ == \"__main__\"\n",
    "is a special variable which is set when you run a program\n",
    "• If you run the program from the command line, the value of _name, is \" main \" and the main() function is run.\n",
    "Otherwise, it is assumed that the program is being imported into another program and we do not want to call main() because that program will invoke the functions as needed.\n",
    "\n",
    "Each library is called a module\n",
    "eg: import math\n",
    "temperature = ceil(21.1)"
   ]
  },
  {
   "cell_type": "markdown",
   "metadata": {},
   "source": []
  },
  {
   "cell_type": "markdown",
   "metadata": {},
   "source": []
  },
  {
   "cell_type": "markdown",
   "metadata": {},
   "source": [
    "modulus  remainder  % "
   ]
  },
  {
   "cell_type": "markdown",
   "metadata": {},
   "source": [
    "Quiz 3 - Perfectly Numerical\n",
    "A natural number b is a divisor of another natural number a when there\n",
    "exists a natural number c such that b * c = a.\n",
    "Every number n>1 has at least two distinct divisors: n and 1, since n * 1 = 1 * n = n. Many numbers have more than two divisors. For example, 6 has four: 6, 3, 2, 1. We call a number n > 1 perfect when the sum of all of its divisors, except for n itself, are equal to n. For example, 6 is perfect since 3 + 2 + 1 = 6.\n",
    "\n",
    "Your task: Write a function that takes as a parameter an integer n > 1. prints on the screen all perfect numbers strictly less than n."
   ]
  },
  {
   "cell_type": "code",
   "execution_count": 46,
   "metadata": {},
   "outputs": [],
   "source": [
    "def perfect(x):\n",
    "    sum = 0\n",
    "    for number in range (1,x+1):\n",
    "            \n",
    "        if x % number == 0 and  number != x :\n",
    "            sum += number \n",
    "    #return sum \n",
    "            \n",
    "    if sum == x:\n",
    "        return True\n",
    "    else:\n",
    "        return False\n",
    "\n",
    "\n",
    "def all_perfect(y):\n",
    "\n",
    "        for number in range (1,y):\n",
    "            if perfect (number) == True: \n",
    "                print (number)\n",
    "\n",
    "def main():\n",
    "\n",
    "    input_number = int (input(\"Enter a number :\"))\n",
    "    all_perfect(input_number)\n",
    "   \n",
    "\n",
    "if __name__ == \"__main__\":\n",
    "    main ()\n",
    "\n",
    "    "
   ]
  },
  {
   "cell_type": "code",
   "execution_count": null,
   "metadata": {},
   "outputs": [],
   "source": [
    "def print_range(x,y): \n",
    "    b = []\n",
    "    for i in range(x,y+1):\n",
    "        a = list(range(i,y+1))\n",
    "        if i > x:\n",
    "            b.append(i)\n",
    "        c = a + b \n",
    "        print(c)\n",
    "\n",
    "print_range(1,5)"
   ]
  }
 ],
 "metadata": {
  "kernelspec": {
   "display_name": "Python 3",
   "language": "python",
   "name": "python3"
  },
  "language_info": {
   "codemirror_mode": {
    "name": "ipython",
    "version": 3
   },
   "file_extension": ".py",
   "mimetype": "text/x-python",
   "name": "python",
   "nbconvert_exporter": "python",
   "pygments_lexer": "ipython3",
   "version": "3.11.5"
  }
 },
 "nbformat": 4,
 "nbformat_minor": 2
}
