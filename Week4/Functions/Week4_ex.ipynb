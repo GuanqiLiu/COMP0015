{
 "cells": [
  {
   "cell_type": "markdown",
   "metadata": {},
   "source": [
    "Exercises – Functions  \n",
    "  \n",
    "1. Guess Two Randoms Decomposed  \n",
    "Before attempting this question you should, run and thoroughly understand the example program \n",
    "guess_two_numbers_again.py.  \n",
    "The (incomplete) program guess_two_numbers_decomposed.py is intended to behave \n",
    "identically as guess_two_numbers_again.py.  \n",
    "So far, it differs from guess_two_numbers_again.py in that there are invocations to two new \n",
    "functions: outputYes() and outputNo(...) within the if-else statement in the main function.  \n",
    "Complete guess_two_numbers_decomposed.py by adding function declarations for \n",
    "outputYes() and outputNo(...)"
   ]
  },
  {
   "cell_type": "markdown",
   "metadata": {},
   "source": []
  }
 ],
 "metadata": {
  "language_info": {
   "name": "python"
  }
 },
 "nbformat": 4,
 "nbformat_minor": 2
}
