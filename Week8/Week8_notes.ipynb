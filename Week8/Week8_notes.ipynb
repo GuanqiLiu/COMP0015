{
 "cells": [
  {
   "cell_type": "markdown",
   "metadata": {},
   "source": [
    "1. Using strings with text files\n",
    "\n",
    "Text files: contains a sequence of character\n",
    "Binary files: a sequence of binary digits (storing: image, audio )\n",
    "string are immutable "
   ]
  },
  {
   "cell_type": "code",
   "execution_count": 4,
   "metadata": {},
   "outputs": [
    {
     "name": "stdout",
     "output_type": "stream",
     "text": [
      "\t\n",
      " This is a \n",
      "n\t\ttest string. \t\t\n",
      "\n",
      "\n",
      "\n",
      "\n",
      "\n",
      "\n"
     ]
    }
   ],
   "source": [
    "sentence =  '\\t\\n This is a \\nn\\t\\ttest string. \\t\\t\\n\\n\\n'\n",
    "print(sentence)\n",
    "\n",
    "#\\n return\n",
    "#\\t tab \n",
    "print(sentence.lstrip(sentence))    #strip（去除）white space from left hand \n",
    "print(sentence.rstrip(sentence))                                 # right hand\n",
    "print(sentence.strip(sentence))     #both hand (但是中间的white space未除掉)"
   ]
  },
  {
   "cell_type": "code",
   "execution_count": 6,
   "metadata": {},
   "outputs": [
    {
     "data": {
      "text/plain": [
       "True"
      ]
     },
     "execution_count": 6,
     "metadata": {},
     "output_type": "execute_result"
    }
   ],
   "source": [
    "sentence = \"Be nice to yu turkeys dis christmas\\Cos' turkeys just wanna hav fun\\nTurkeys a re cool, turkeys are wicked\\nAn every turkey has a Mum.\"\n",
    "sentence. count (' turkey')\n",
    "sentence. count (' turkey', 50)\n",
    "sentence. count ('turkey', 30, 50)\n",
    "sentence. index (' turkey', 30, 50)  #position\n",
    "\n",
    "'cool' in sentence   #substring in a string ? return true or flase\n",
    "\n",
    "sentence.replace('turkey','tofu')  #string a immutable, 所以sentence不会变\n",
    "\n"
   ]
  },
  {
   "cell_type": "code",
   "execution_count": null,
   "metadata": {},
   "outputs": [],
   "source": [
    "string.split()\n",
    "#变成a list of string\n",
    "#\\n 换行"
   ]
  },
  {
   "cell_type": "code",
   "execution_count": null,
   "metadata": {},
   "outputs": [],
   "source": [
    "#splitting substring \n",
    "poetry_file = open(\"/Users/shiyi/Desktop/COMP0015/Week8/Week8_Code/poetry.txt\")\n",
    "poem = poetry_file.read()\n",
    "poem\n",
    "poem.split()  #split all the white space, seperate the stirng inside the list"
   ]
  },
  {
   "cell_type": "code",
   "execution_count": 16,
   "metadata": {},
   "outputs": [
    {
     "data": {
      "text/plain": [
       "['Talking Turkeys\\t\\t\\n',\n",
       " 'Be nice to yu turkeys \\tdis christmas\\n',\n",
       " \"\\t\\tCos' turkeys just wanna hav fun\\n\",\n",
       " '        Turkeys are cool, turkeys are wicked     \\n',\n",
       " 'An every turkey has a Mum.\\n',\n",
       " 'Be nice to yu turkeys dis     \\t     christmas,\\n',\n",
       " \"\\t\\t\\tDon't eat it, keep it alive,\\n\",\n",
       " ' It could be yu mate, an not on your plate\\n',\n",
       " \" Say, Yo! Turkey I'm on your side.\\n\",\n",
       " 'I got lots of friends who are turkeys         \\t\\n',\n",
       " 'An all of dem fear christmas time,\\n',\n",
       " 'Dey wanna enjoy it, dey say humans destroyed it    \\n',\n",
       " 'An humans are out of dere mind,\\n',\n",
       " 'Yeah, I got lots of friends who are turkeys\\t\\n',\n",
       " 'Dey all hav a right to a life,\\n',\n",
       " '\\t\\tNot to be caged up an genetically made up\\t\\t\\n',\n",
       " 'By any farmer an his wife.']"
      ]
     },
     "execution_count": 16,
     "metadata": {},
     "output_type": "execute_result"
    }
   ],
   "source": [
    "poetry_file = open(\"/Users/shiyi/Desktop/COMP0015/Week8/Week8_Code/poetry.txt\")\n",
    "poem_line = poetry_file.readlines()\n",
    "poem_line       #a list of string,each element in a list contains a line of the file \n"
   ]
  },
  {
   "cell_type": "code",
   "execution_count": 17,
   "metadata": {},
   "outputs": [
    {
     "name": "stdout",
     "output_type": "stream",
     "text": [
      "['Talking', 'Turkeys']\n",
      "['Be', 'nice', 'to', 'yu', 'turkeys', 'dis', 'christmas']\n",
      "[\"Cos'\", 'turkeys', 'just', 'wanna', 'hav', 'fun']\n",
      "['Turkeys', 'are', 'cool,', 'turkeys', 'are', 'wicked']\n",
      "['An', 'every', 'turkey', 'has', 'a', 'Mum.']\n",
      "['Be', 'nice', 'to', 'yu', 'turkeys', 'dis', 'christmas,']\n",
      "[\"Don't\", 'eat', 'it,', 'keep', 'it', 'alive,']\n",
      "['It', 'could', 'be', 'yu', 'mate,', 'an', 'not', 'on', 'your', 'plate']\n",
      "['Say,', 'Yo!', 'Turkey', \"I'm\", 'on', 'your', 'side.']\n",
      "['I', 'got', 'lots', 'of', 'friends', 'who', 'are', 'turkeys']\n",
      "['An', 'all', 'of', 'dem', 'fear', 'christmas', 'time,']\n",
      "['Dey', 'wanna', 'enjoy', 'it,', 'dey', 'say', 'humans', 'destroyed', 'it']\n",
      "['An', 'humans', 'are', 'out', 'of', 'dere', 'mind,']\n",
      "['Yeah,', 'I', 'got', 'lots', 'of', 'friends', 'who', 'are', 'turkeys']\n",
      "['Dey', 'all', 'hav', 'a', 'right', 'to', 'a', 'life,']\n",
      "['Not', 'to', 'be', 'caged', 'up', 'an', 'genetically', 'made', 'up']\n",
      "['By', 'any', 'farmer', 'an', 'his', 'wife.']\n"
     ]
    }
   ],
   "source": [
    "poetry_file = open(\"/Users/shiyi/Desktop/COMP0015/Week8/Week8_Code/poetry.txt\")\n",
    "poem_line = poetry_file.readlines()\n",
    "poem_line       #a list of string,each element in a list contains a line of the file \n",
    "\n",
    "for line in poem_line:\n",
    "    print(line.split())"
   ]
  },
  {
   "cell_type": "code",
   "execution_count": 19,
   "metadata": {},
   "outputs": [
    {
     "name": "stdout",
     "output_type": "stream",
     "text": [
      "Talking*Turkeys\n",
      "Be*nice*to*yu*turkeys*dis*christmas\n",
      "Cos'*turkeys*just*wanna*hav*fun\n",
      "Turkeys*are*cool,*turkeys*are*wicked\n",
      "An*every*turkey*has*a*Mum.\n",
      "Be*nice*to*yu*turkeys*dis*christmas,\n",
      "Don't*eat*it,*keep*it*alive,\n",
      "It*could*be*yu*mate,*an*not*on*your*plate\n",
      "Say,*Yo!*Turkey*I'm*on*your*side.\n",
      "I*got*lots*of*friends*who*are*turkeys\n",
      "An*all*of*dem*fear*christmas*time,\n",
      "Dey*wanna*enjoy*it,*dey*say*humans*destroyed*it\n",
      "An*humans*are*out*of*dere*mind,\n",
      "Yeah,*I*got*lots*of*friends*who*are*turkeys\n",
      "Dey*all*hav*a*right*to*a*life,\n",
      "Not*to*be*caged*up*an*genetically*made*up\n",
      "By*any*farmer*an*his*wife.\n"
     ]
    }
   ],
   "source": [
    "poetry_file = open(\"/Users/shiyi/Desktop/COMP0015/Week8/Week8_Code/poetry.txt\")\n",
    "poem_line = poetry_file.readlines()\n",
    "poem_line       #a list of string,each element in a list contains a line of the file \n",
    "\n",
    "for line in poem_line:\n",
    "    print('*'.join(line.split()))"
   ]
  },
  {
   "cell_type": "code",
   "execution_count": 22,
   "metadata": {},
   "outputs": [
    {
     "data": {
      "text/plain": [
       "111"
      ]
     },
     "execution_count": 22,
     "metadata": {},
     "output_type": "execute_result"
    }
   ],
   "source": [
    "# in python, each character representes internally by a number\n",
    "ord('o')  #return the numeric representation of a unicode character"
   ]
  },
  {
   "cell_type": "code",
   "execution_count": 21,
   "metadata": {},
   "outputs": [
    {
     "data": {
      "text/plain": [
       "'o'"
      ]
     },
     "execution_count": 21,
     "metadata": {},
     "output_type": "execute_result"
    }
   ],
   "source": [
    "chr(111)  #does the reverse (Upper case come before the lower case)"
   ]
  },
  {
   "cell_type": "code",
   "execution_count": 24,
   "metadata": {},
   "outputs": [
    {
     "name": "stdout",
     "output_type": "stream",
     "text": [
      "1000\n"
     ]
    }
   ],
   "source": [
    "string = '999'\n",
    "string.isnumeric()   # check string 是否是 number\n",
    "number = int(string)\n",
    "number += 1\n",
    "print (number)"
   ]
  },
  {
   "cell_type": "markdown",
   "metadata": {},
   "source": [
    "2. Processing files in Python (File input/ Out put)\n",
    "python programs connect to files via objects called streams "
   ]
  },
  {
   "cell_type": "code",
   "execution_count": null,
   "metadata": {},
   "outputs": [],
   "source": [
    "infile = open(\"input.text\", \"r\") #reading   (input stream allow data flow into the program)\n",
    "outfile = open(\"input.text\", \"w\") # writng  (ouput stream allow data flow out to a program)\n",
    "\n",
    "infile.close()   #close files after data is processed \n",
    "outfile.close()\n",
    "\n",
    "appendFile = open(\"output.txt\", \"a\")  #append"
   ]
  },
  {
   "cell_type": "code",
   "execution_count": null,
   "metadata": {},
   "outputs": [],
   "source": [
    "file.flush()\n"
   ]
  },
  {
   "cell_type": "markdown",
   "metadata": {},
   "source": []
  },
  {
   "cell_type": "markdown",
   "metadata": {},
   "source": []
  },
  {
   "cell_type": "code",
   "execution_count": 26,
   "metadata": {},
   "outputs": [
    {
     "name": "stdout",
     "output_type": "stream",
     "text": [
      "Apples\n",
      "Bananas\n",
      "Cauliflower\n",
      "Daikon\n",
      "Endive\n",
      "Fiddlehead ferns\n",
      "Garlic\n",
      "Habanero\n",
      "Iceberg lettuce\n",
      "Jicama\n",
      "Kale\n",
      "Leek\n",
      "Melon\n",
      "\n"
     ]
    }
   ],
   "source": [
    "# Reading the whole file\n",
    "#one big string:\n",
    "shoppingListFile = open(\"/Users/shiyi/Desktop/COMP0015/Week8/Week8_Code/shopping_list.txt\", \"r\")\n",
    "contents = shoppingListFile.read ()\n",
    "print (contents)"
   ]
  },
  {
   "cell_type": "code",
   "execution_count": 27,
   "metadata": {},
   "outputs": [
    {
     "name": "stdout",
     "output_type": "stream",
     "text": [
      "['Apples\\n', 'Bananas\\n', 'Cauliflower\\n', 'Daikon\\n', 'Endive\\n', 'Fiddlehead ferns\\n', 'Garlic\\n', 'Habanero\\n', 'Iceberg lettuce\\n', 'Jicama\\n', 'Kale\\n', 'Leek\\n', 'Melon\\n']\n"
     ]
    }
   ],
   "source": [
    "#A list of lines:\n",
    "shoppingListFile = open (\"/Users/shiyi/Desktop/COMP0015/Week8/Week8_Code/shopping_list.txt\", \"r\")\n",
    "contents = shoppingListFile.readlines () #read follow by a split of the new line \n",
    "print (contents)"
   ]
  },
  {
   "cell_type": "code",
   "execution_count": 28,
   "metadata": {},
   "outputs": [
    {
     "name": "stdout",
     "output_type": "stream",
     "text": [
      "Bananas\n",
      "Cauliflower\n",
      "Daikon\n",
      "Endive\n",
      "Fiddlehead ferns\n",
      "Garlic\n",
      "Habanero\n",
      "Iceberg lettuce\n",
      "Jicama\n",
      "Kale\n",
      "Leek\n",
      "Melon\n",
      "\n"
     ]
    }
   ],
   "source": [
    "#Reading line by line\n",
    "shoppingListFile = open (\"/Users/shiyi/Desktop/COMP0015/Week8/Week8_Code/shopping_list.txt\", \"r\")\n",
    "\n",
    "line = shoppingListFile.readline()\n",
    "while line != \"\":  #不知道有多少line\n",
    "    line = shoppingListFile.readline().rstrip()\n",
    "    print (line)\n",
    "shoppingListFile.close ()"
   ]
  },
  {
   "cell_type": "code",
   "execution_count": 34,
   "metadata": {},
   "outputs": [
    {
     "name": "stdout",
     "output_type": "stream",
     "text": [
      "next line: Apples\n",
      "next line: Bananas\n",
      "next line: Cauliflower\n",
      "next line: Daikon\n",
      "next line: Endive\n",
      "next line: Fiddlehead ferns\n",
      "next line: Garlic\n",
      "next line: Habanero\n",
      "next line: Iceberg lettuce\n",
      "next line: Jicama\n",
      "next line: Kale\n",
      "next line: Leek\n",
      "next line: Melon\n",
      "Line count: 13\n"
     ]
    }
   ],
   "source": [
    "with open(\"/Users/shiyi/Desktop/COMP0015/Week8/Week8_Code/shopping_list.txt\", \"r\") as file:\n",
    "    lineCount = 0\n",
    "    for line in file:\n",
    "        print (\"next line:\" , line.rstrip ()) #line.rstrip ()需要在这里\n",
    "        lineCount += 1\n",
    "    print (\"Line count:\", lineCount)"
   ]
  },
  {
   "cell_type": "markdown",
   "metadata": {},
   "source": [
    "Comma seperated values (CSV) where data stored"
   ]
  },
  {
   "cell_type": "code",
   "execution_count": 39,
   "metadata": {},
   "outputs": [
    {
     "name": "stdout",
     "output_type": "stream",
     "text": [
      "Brimstone (Gonepteryx rhamni):\t 105, No change\n",
      "Brown argus (Aricia agestis):\t 13, No change\n",
      "Comma (Polygonia c-album):\t 2, No change\n",
      "Common blue (Polyommatus icarus):\t 1, No change\n",
      "Gatekeeper (Pyronia tithonus):\t 12, No change\n",
      "Green-veined white (Pieris napi):\t -15, No change\n",
      "Holly blue (Celastrina argiolus):\t 20, No change\n",
      "Large skipper (Ochlodes sylvanus):\t 12, No change\n",
      "Large white (Pieris brassicae):\t 29, No change\n",
      "Marbled white (Melanargia galathea):\t 110, No change\n",
      "Meadow brown (Maniola jurtina):\t -7, No change\n",
      "Orange-tip (Anthocharis cardamines):\t -27, No change\n",
      "Peacock (Aglais io):\t 65, No change\n",
      "Purple hairstreak (Favonius quercus):\t -37, No change\n",
      "Ringlet (Aphantopus hyperantus):\t 40, No change\n",
      "Scotch argus (Erebia aethiops):\t -63, Decreased\n",
      "Small copper (Lycaena phlaeas):\t -58, Decreased\n",
      "Small heath (Coenonympha pamphilus):\t -60, Decreased\n",
      "Small/essex skipper (Thymelicus sylvestris/lineola):\t 90, No change\n",
      "Small tortoiseshell (Aglais urticae):\t 58, No change\n",
      "Small white (Pieris rapae):\t -2, No change\n",
      "Speckled wood (Pararge aegeria):\t 2, No change\n",
      "Wall (Lasiommata megera):\t -35, No change\n",
      "White-letter hairstreak (Satyrium w-album):\t -60, No change\n",
      "\n",
      "Line count: 50\n"
     ]
    }
   ],
   "source": [
    "# This program counts and prints all\n",
    "# of the lines in an input file.\n",
    "\n",
    "HEADER_LINES = 2\n",
    "\n",
    "def main():\n",
    "    with open(\"/Users/shiyi/Desktop/COMP0015/Week8/Week8_Code/Trends_in_UK_butterflies.csv\") as file:\n",
    "        line_count = 0\n",
    "        butterflyName = \"\"\n",
    "        shortTermChange = \"\"\n",
    "        trend = 0\n",
    "        \n",
    "        for line in file:\n",
    "            if line_count >= HEADER_LINES:\n",
    "                line = line.rstrip()\n",
    "                if line_count % 2 == 0:\n",
    "                    butterflyName, *extra, shortTermChange, trend = line.split(',')\n",
    "                else:\n",
    "                    latinName = line.strip(',')\n",
    "                    print(\"{} {}:\\t {}, {}\".format(butterflyName.capitalize(), latinName, shortTermChange.rstrip('*'), trend))\n",
    "            line_count += 1\n",
    "        print(\"\\nLine count:\", line_count)\n",
    "\n",
    "main()"
   ]
  },
  {
   "cell_type": "code",
   "execution_count": 41,
   "metadata": {},
   "outputs": [
    {
     "name": "stdout",
     "output_type": "stream",
     "text": [
      "Invalid number: hello\n",
      "Invalid number: how\n",
      "Invalid number: are\n",
      "Invalid number: you?\n",
      "Invalid number: :-)\n",
      "Invalid number: oops\n",
      "Invalid number: badbad\n",
      "Invalid number: yipes\n",
      "Sum is: 479.5\n"
     ]
    }
   ],
   "source": [
    "def main ():\n",
    "    sum = 0.0\n",
    "    with open (\"/Users/shiyi/Desktop/COMP0015/Week8/Week8_Code/bad_numbers.txt\") as file: \n",
    "        for n in file.read().split():\n",
    "# try to convert n to a float, but if it\n",
    "# is not a valid float, print error message\n",
    "            try:\n",
    "                sum += float (n)\n",
    "            except ValueError:\n",
    "                print (\"Invalid number:\", n)\n",
    "    print (\"Sum is:\", round (sum, 1))\n",
    "\n",
    "main()"
   ]
  },
  {
   "cell_type": "code",
   "execution_count": null,
   "metadata": {},
   "outputs": [],
   "source": [
    "# Writing to file \n",
    "outfile.write(\"Hello \\n\")\n",
    "#must explicitly write the newlie character to start a new line\n",
    "\n",
    "print(\"Hello\", file = outfile)\n",
    "\n",
    "# if you don't want a newline, use the end argument\n",
    "print(\"Total: \", end = \"\", file = outfile)"
   ]
  },
  {
   "cell_type": "markdown",
   "metadata": {},
   "source": [
    "If you open a file for writing, python will open and erease everything. （若不存在会create a new one）\n",
    "要用append，如果不存在，则error\n",
    "appendfile = open(\"Output.txt\",\"a\")\n",
    "\n",
    "provide the file with the path"
   ]
  },
  {
   "cell_type": "markdown",
   "metadata": {},
   "source": [
    "3. Exceptions \n",
    "seeking and handling error "
   ]
  },
  {
   "cell_type": "code",
   "execution_count": 42,
   "metadata": {},
   "outputs": [
    {
     "name": "stdout",
     "output_type": "stream",
     "text": [
      "That's not a valid number\n"
     ]
    }
   ],
   "source": [
    "#catching an exception  \n",
    "try:\n",
    "    answer = int(input(\"Please typr a numeber: \"))\n",
    "except ValueError:\n",
    "    print(\"That's not a valid number\")\n"
   ]
  },
  {
   "cell_type": "markdown",
   "metadata": {},
   "source": [
    "catching more than one exception"
   ]
  },
  {
   "cell_type": "code",
   "execution_count": null,
   "metadata": {},
   "outputs": [],
   "source": [
    "#  This program is from: Python for Everyone by Horstmann and Necaise\n",
    "#  The program processes a file containing a count followed by data values.\n",
    "#  If the file doesn't exist or the format is incorrect, you can specify another file.\n",
    "#\n",
    "\n",
    "def main() :\n",
    "   done = False\n",
    "   while not done :\n",
    "      try :\n",
    "         filename = input(\"Please enter the file name: \")\n",
    "         data = readFile(filename)\n",
    "         \n",
    "         # As an example for processing the data, we compute the sum.\n",
    "         total = 0\n",
    "         for value in data :\n",
    "            total = total + value\n",
    "            \n",
    "         print(\"The sum is\", total)\n",
    "         done = True          #loop woud terminal \n",
    "         \n",
    "      except IOError :\n",
    "         print(\"Error: file not found.\")\n",
    "         \n",
    "      except ValueError : \n",
    "         print(\"Error: file contents invalid.\")\n",
    "         \n",
    "      except RuntimeError as error :\n",
    "         print(\"Error:\", str(error))\n",
    "\n",
    "## Opens a file and reads a data set.\n",
    "#  @param filename the name of the file holding the data\n",
    "#  @return a list containing the data in the file\n",
    "#\n",
    "def readFile(filename) :\n",
    "   inFile = open(filename, \"r\")   \n",
    "   try :\n",
    "      return readData(inFile)\n",
    "   finally :                        #finally block will run wheher the exception 有或没有\n",
    "      inFile.close()          # make sure the file is close!\n",
    "\n",
    "## Reads a data set.\n",
    "#  @param inFile the input file containing the data\n",
    "#  @return the data set in a list\n",
    "#\n",
    "def readData(inFile) :\n",
    "   line = inFile.readline()\n",
    "   numberOfValues = int(line)  # May raise a ValueError exception.\n",
    "   data = []\n",
    "   \n",
    "   for i in range(numberOfValues) :\n",
    "      line = inFile.readline()\n",
    "      value = int(line)        # May raise a ValueError exception.               \n",
    "      data.append(value)\n",
    "      \n",
    "   # Make sure there are no more values in the file.\n",
    "   line = inFile.readline()\n",
    "   if line != \"\" :          \n",
    "      raise RuntimeError(\"End of file expected.\")\n",
    "   \n",
    "   return data\n",
    "   \n",
    "# Start the program.\n",
    "main()\n"
   ]
  },
  {
   "cell_type": "code",
   "execution_count": null,
   "metadata": {},
   "outputs": [],
   "source": [
    "#Raise an exception\n",
    "# Make sure there are no more values in the file\n",
    "balance = -1\n",
    "if balance < 0:\n",
    "    raise ValueError(\"Balance must be greater than 0\")"
   ]
  },
  {
   "cell_type": "markdown",
   "metadata": {},
   "source": [
    "4. Use ezgraphics \n",
    "simplify version of python tk library"
   ]
  },
  {
   "cell_type": "code",
   "execution_count": 48,
   "metadata": {},
   "outputs": [],
   "source": [
    "from ezgraphics import GraphicsWindow\n",
    "def main() :\n",
    "# Create a graphics window (640 × 480 pixels) :\n",
    "    win = GraphicsWindow (640, 480)\n",
    "# Access the canvas contained in the graphics window:\n",
    "    canvas = win. canvas ()\n",
    "    canvas. drawRect (15, 10, 20, 30)\n",
    "# Wait for the user to close the window\n",
    "    win.wait ()"
   ]
  },
  {
   "cell_type": "markdown",
   "metadata": {},
   "source": [
    "Draw oval ????????"
   ]
  },
  {
   "cell_type": "code",
   "execution_count": null,
   "metadata": {},
   "outputs": [],
   "source": [
    "from ezgraphics import GraphicsWindow\n",
    "\n",
    "WIDTH = 500\n",
    "HEIGHT = 300\n",
    "MARGIN = 40\n",
    "    \n",
    "def draw_oval_block(canvas, x, y, width, height):\n",
    "    \n",
    "    canvas.drawRectangle(x, y, width, height)\n",
    "\n",
    "    canvas.setFill(\"yellow\")\n",
    "    \n",
    "    canvas.drawOval(x + MARGIN / 2, y + MARGIN / 2, width - MARGIN, height - MARGIN)\n",
    "\n",
    "    canvas.setFill(\"\")\n",
    "\n",
    "    canvas.drawLine(x, y, x + width, y + height)\n",
    "\n",
    "    canvas.drawLine(x + width, y, x, y + height) \n",
    "\n",
    "\n",
    "    \n",
    "def main():\n",
    "\n",
    "    # Create a graphics window (WIDTH x HEIGHT pixels):\n",
    "    win = GraphicsWindow(WIDTH, HEIGHT)\n",
    "\n",
    "    # Access the canvas contained in the graphics window:\n",
    "    canvas = win.canvas()\n",
    "\n",
    "    draw_oval_block(canvas, 0, 0, WIDTH / 2, HEIGHT / 2)\n",
    "\n",
    "    # \n",
    "    draw_oval_block(canvas, WIDTH / 2, HEIGHT / 2, (WIDTH / 2) - 1,\\\n",
    "                    (HEIGHT / 2) - 1)\n",
    "\n",
    "\n",
    "    # Wait for the user to close the window\n",
    "    win.wait()\n",
    "\n",
    "    \n",
    "    \n",
    "\n",
    "if __name__ == \"__main__\":\n",
    "    main()\n"
   ]
  },
  {
   "cell_type": "code",
   "execution_count": 52,
   "metadata": {},
   "outputs": [],
   "source": [
    "from ezgraphics import GraphicsWindow\n",
    "\n",
    "WIDTH = 500\n",
    "HEIGHT = 300\n",
    "\n",
    "    \n",
    "def draw_rays_block(canvas, x, y, width, height, num_lines):\n",
    "\n",
    "    canvas.drawRectangle(x, y, width, height)\n",
    "\n",
    "    increment = height / num_lines\n",
    "    \n",
    "    for i in range(1, num_lines + 1):\n",
    "        canvas.drawLine(x, y, x + width, y + (i * increment))\n",
    "\n",
    "\n",
    "\n",
    "    \n",
    "def main():\n",
    "\n",
    "    # Create a graphics window (WIDTH x HEIGHT pixels):\n",
    "    win = GraphicsWindow(WIDTH, HEIGHT)\n",
    "\n",
    "    # Access the canvas contained in the graphics window:\n",
    "    canvas = win.canvas()\n",
    "\n",
    "    draw_rays_block(canvas, 0, 0, WIDTH / 2, HEIGHT / 2, 5)\n",
    "    draw_rays_block(canvas, WIDTH / 2, HEIGHT / 2, (WIDTH / 2) - 1, (HEIGHT / 2) - 1, 5)\n",
    "\n",
    "\n",
    "    # Wait for the user to close the window\n",
    "    win.wait()\n",
    "\n",
    "    \n",
    "    \n",
    "\n",
    "if __name__ == \"__main__\":\n",
    "    main()\n"
   ]
  }
 ],
 "metadata": {
  "kernelspec": {
   "display_name": "Python 3",
   "language": "python",
   "name": "python3"
  },
  "language_info": {
   "codemirror_mode": {
    "name": "ipython",
    "version": 3
   },
   "file_extension": ".py",
   "mimetype": "text/x-python",
   "name": "python",
   "nbconvert_exporter": "python",
   "pygments_lexer": "ipython3",
   "version": "3.11.5"
  }
 },
 "nbformat": 4,
 "nbformat_minor": 2
}
