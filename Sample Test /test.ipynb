{
 "cells": [
  {
   "cell_type": "code",
   "execution_count": 1,
   "metadata": {},
   "outputs": [],
   "source": [
    "#Q1\n",
    "from turtle import *\n",
    "penup()\n",
    "setpos(0,0)\n",
    "pendown()\n",
    "pensize(2)\n",
    "pencolor(\"Black\")\n",
    "\n",
    "for i in range (0,4):\n",
    "        fd(100)\n",
    "        lt(90)\n",
    "\n",
    "penup()\n",
    "setpos(50,50)\n",
    "pendown()\n",
    "pensize(2)\n",
    "pencolor(\"Black\")\n",
    "\n",
    "for i in range (0,4):\n",
    "        fd(100)\n",
    "        lt(90)\n",
    "\n",
    "exitonclick()"
   ]
  },
  {
   "cell_type": "code",
   "execution_count": 4,
   "metadata": {},
   "outputs": [
    {
     "data": {
      "text/plain": [
       "16"
      ]
     },
     "execution_count": 4,
     "metadata": {},
     "output_type": "execute_result"
    }
   ],
   "source": [
    "#Q2\n",
    "def mul(s):\n",
    "    res = 1\n",
    "    for i in range (0, len(s) -1, 1):    #eg lenth = 4 则loop 0，1，2 只有三个\n",
    "        res *= int (s[i])\n",
    "        \n",
    "    return res\n",
    "    \n",
    "mul(\"2180\")\n"
   ]
  },
  {
   "cell_type": "markdown",
   "metadata": {},
   "source": [
    "对于 mul(\"357 a\")：当执行到字符 ' '（空格）时，int(' ') 尝试将空格转换为整数，但是空格不能被转换为整数，因此会抛出 ValueError。\n",
    "\n",
    "对于 mul(\"357a\")：注意这个函数遍历字符串时使用的是 range(0, len(s) - 1, 1)。这意味着它实际上不会处理字符串的最后一个字符。对于 \"357a\" 来说，最后一个字符 'a' 是不被处理的，因此不会尝试执行 int('a')，这就避免了错误。"
   ]
  },
  {
   "cell_type": "code",
   "execution_count": 16,
   "metadata": {},
   "outputs": [
    {
     "data": {
      "text/plain": [
       "2"
      ]
     },
     "execution_count": 16,
     "metadata": {},
     "output_type": "execute_result"
    }
   ],
   "source": [
    "#Q3\n",
    "def count(string, character):\n",
    "    newstring = str.lower(string)\n",
    "    newcharacter = str.lower(character)\n",
    "    times = 0 \n",
    "    for i in range (len(string)):                    #for i in newstring:\n",
    "        if newstring[i] == newcharacter:             #    if i == newcharacter\n",
    "            times += 1\n",
    "        else: \n",
    "            times += 0\n",
    "    return times\n",
    "\n",
    "count (\"haPPy\",\"p\")\n",
    "    "
   ]
  },
  {
   "cell_type": "code",
   "execution_count": 26,
   "metadata": {},
   "outputs": [
    {
     "data": {
      "text/plain": [
       "23"
      ]
     },
     "execution_count": 26,
     "metadata": {},
     "output_type": "execute_result"
    }
   ],
   "source": [
    "#Q4\n",
    "def Multiple_sum (number):\n",
    "    sum = 0   # sum 要放到外面\n",
    "    for i in range (1,number):\n",
    "         \n",
    "        if i % 3 == 0 or i % 5 == 0:\n",
    "            sum += i \n",
    "        else:\n",
    "            sum += 0 \n",
    "    \n",
    "    return sum\n",
    "\n",
    "Multiple_sum(10)"
   ]
  },
  {
   "cell_type": "code",
   "execution_count": 9,
   "metadata": {},
   "outputs": [
    {
     "name": "stdout",
     "output_type": "stream",
     "text": [
      "TTHTHHH\n",
      "Congratulations! 3 heads in a row.\n"
     ]
    }
   ],
   "source": [
    "#Q5\n",
    "import random\n",
    "\n",
    "def three_heads():\n",
    "   \n",
    "    headcount = 0\n",
    "\n",
    "    while headcount < 3: \n",
    "        \n",
    "        result = random.randint(0,1)\n",
    "        if result == 0:\n",
    "            print(\"H\", end=\"\")\n",
    "            headcount += 1\n",
    "            \n",
    "        else:\n",
    "            print(\"T\", end=\"\")\n",
    "            headcount = 0  #直接归零重新计算\n",
    "    \n",
    "    print(\"\\nCongratulations! 3 heads in a row.\")\n",
    "   \n",
    "\n",
    "three_heads()"
   ]
  },
  {
   "cell_type": "code",
   "execution_count": 53,
   "metadata": {},
   "outputs": [
    {
     "name": "stdout",
     "output_type": "stream",
     "text": [
      "Amount is: 91\n",
      "50p - 1\n",
      "20p -  2\n",
      "remainder 1\n"
     ]
    }
   ],
   "source": [
    "#Q6\n",
    "def get_coins(amount):\n",
    "    print(\"Amount is:\",amount)\n",
    "    if amount < 10:\n",
    "        print(\"remainder\",amount)\n",
    "\n",
    "\n",
    "    if amount // 50 == 1:\n",
    "        twenty = (amount-50)//20\n",
    "        ten = (amount-50)//10\n",
    "        left = (amount-50)%20\n",
    "        if twenty > 0 : \n",
    "            print (\"50p - 1\")\n",
    "            print (\"20p - \",twenty)\n",
    "            if (amount-50-twenty*20)//10 < 1:\n",
    "                print (\"remainder\",amount-50-twenty*20)\n",
    "            else:\n",
    "                x = (amount-50-twenty*20)//10\n",
    "                print(\"10p - \",x)\n",
    "                print(\"remainder\",amount-50-twenty*20-x*10)\n",
    "                  \n",
    "        elif twenty <= 0 and ten > 0:\n",
    "            print (\"50p - 1\")\n",
    "            print (\"10p - \",ten)\n",
    "            print(\"remainder\",amount-50-twenty*20-ten*10)\n",
    "        \n",
    "        else:\n",
    "            print (\"50p - 1\")\n",
    "            print(\"remainder\",amount-50)\n",
    "\n",
    "    if amount // 50 < 1:\n",
    "        twenty = amount//20\n",
    "        ten = amount//10\n",
    "        left = amount%20\n",
    "        if twenty > 0 : \n",
    "            print (\"20p - \",twenty)\n",
    "            if (amount-twenty*20)//10 < 1:\n",
    "                print (\"remainder\",amount-twenty*20)\n",
    "            else:\n",
    "                x = (amount-twenty*20)//10\n",
    "                print(\"10p - \",x)\n",
    "                print(\"remainder\",amount-twenty*20-x*10)\n",
    "                  \n",
    "        elif twenty <= 0 and ten > 0:\n",
    "            print (\"10p - \",ten)\n",
    "            print(\"remainder\",amount-twenty*20-ten*10)\n",
    "\n",
    "get_coins(91)"
   ]
  },
  {
   "cell_type": "markdown",
   "metadata": {},
   "source": [
    "运用// //：整除运算符 (Floor Division)\n",
    "它返回两数相除的结果的整数部分，即向下取整。\n",
    "例如: 7 // 2 返回 3，因为7除以2的商是3余1\n",
    "\n",
    "  /除    %=余数"
   ]
  },
  {
   "cell_type": "code",
   "execution_count": 54,
   "metadata": {},
   "outputs": [
    {
     "name": "stdout",
     "output_type": "stream",
     "text": [
      "Amount is: 0\n",
      "remainder 0\n",
      "Amount is: 99\n",
      "50p - 1\n",
      "20p - 2\n",
      "remainder 9\n",
      "Amount is: 9\n",
      "remainder 9\n",
      "Amount is: 11\n",
      "10p - 1\n",
      "remainder 1\n",
      "Amount is: 54\n",
      "50p - 1\n",
      "remainder 4\n"
     ]
    }
   ],
   "source": [
    "def get_coins(amount):\n",
    "    # Validate the input\n",
    "    if amount < 0 or amount >= 100:\n",
    "        print(\"Invalid amount.\")\n",
    "        return\n",
    "\n",
    "    print(f\"Amount is: {amount}\")\n",
    "    \n",
    "    # Calculate the number of 50p coins\n",
    "    num_50p = amount // 50\n",
    "    if num_50p > 0:\n",
    "        print(f\"50p - {num_50p}\")\n",
    "    amount %= 50                                     #注意这里amount一直在变    amount %= 50   % 余数 // 取整\n",
    "    \n",
    "    # Calculate the number of 20p coins\n",
    "    num_20p = amount // 20\n",
    "    if num_20p > 0:\n",
    "        print(f\"20p - {num_20p}\")\n",
    "    amount %= 20\n",
    "\n",
    "    # Calculate the number of 10p coins\n",
    "    num_10p = amount // 10\n",
    "    if num_10p > 0:\n",
    "        print(f\"10p - {num_10p}\")\n",
    "    amount %= 10\n",
    "\n",
    "    # Print the remainder\n",
    "    if amount > 0:\n",
    "        print(f\"remainder {amount}\")\n",
    "    else:\n",
    "        print(\"remainder 0\")\n",
    "\n",
    "# Test cases\n",
    "get_coins(0)\n",
    "get_coins(99)\n",
    "get_coins(9)\n",
    "get_coins(11)\n",
    "get_coins(54)\n"
   ]
  },
  {
   "cell_type": "code",
   "execution_count": 26,
   "metadata": {},
   "outputs": [
    {
     "name": "stdout",
     "output_type": "stream",
     "text": [
      "(Flase, 0)\n"
     ]
    }
   ],
   "source": [
    "#Q7\n",
    "def enough_time(hour1, minute1, hour2, minute2):\n",
    "    diff_min = minute2 - minute1\n",
    "    if hour1 == hour2 and diff_min >= 45:\n",
    "        print (\"(True,\",diff_min,\")\")\n",
    "\n",
    "    elif hour2 > hour1 and minute2+(60-minute1) >= 45:\n",
    "        if hour2 - hour1 == 1:\n",
    "            time_left = minute2+(60-minute1)\n",
    "            print (\"(True,\",time_left,\")\")\n",
    "        else:\n",
    "            time_left = (hour2 - hour1 - 1)*60 + minute2 + 60 - minute1\n",
    "            print (\"(True,\",time_left,\")\")\n",
    "\n",
    "    elif hour2 > hour1 and minute2+(60-minute1) < 45:\n",
    "        if hour2 - hour1 == 1:\n",
    "            print (\"(Flase,\",minute2+(60-minute1),\")\")\n",
    "        else:\n",
    "            time_left = (hour2 - hour1 - 1)*60 + minute2 + 60 - minute1\n",
    "            print (\"(True,\",time_left,\")\")\n",
    "\n",
    "    elif hour1 == hour2 and 0<diff_min<45:\n",
    "        print(\"(Flase,\",diff_min,\")\")\n",
    "\n",
    "    else:\n",
    "        print(\"(Flase, 0)\")\n",
    "\n",
    "enough_time(12, 30, 9, 30)\n"
   ]
  },
  {
   "cell_type": "code",
   "execution_count": 42,
   "metadata": {},
   "outputs": [
    {
     "data": {
      "text/plain": [
       "(False, 0)"
      ]
     },
     "execution_count": 42,
     "metadata": {},
     "output_type": "execute_result"
    }
   ],
   "source": [
    "#Q7 简便方法\n",
    "def enough_time(hour1, minute1, hour2, minute2):\n",
    "   \n",
    "    time1_in_minutes = hour1 * 60 + minute1\n",
    "    time2_in_minutes = hour2 * 60 + minute2\n",
    "\n",
    "    difference = time2_in_minutes - time1_in_minutes\n",
    "    if difference <= 0:\n",
    "        return False,0 \n",
    "   \n",
    "    if difference < 45:\n",
    "        return False, difference\n",
    "    else:\n",
    "        return True, difference\n",
    "\n",
    "# Test cases\n",
    "enough_time(11, 00, 11, 59) \n",
    "enough_time(12, 30, 13, 00) \n",
    "enough_time(12, 30, 13, 15)  \n",
    "enough_time(14, 20, 17, 2) \n",
    "enough_time(12, 30, 9, 30) \n",
    "enough_time(12, 00, 11, 55) \n",
    "\n"
   ]
  }
 ],
 "metadata": {
  "kernelspec": {
   "display_name": "Python 3",
   "language": "python",
   "name": "python3"
  },
  "language_info": {
   "codemirror_mode": {
    "name": "ipython",
    "version": 3
   },
   "file_extension": ".py",
   "mimetype": "text/x-python",
   "name": "python",
   "nbconvert_exporter": "python",
   "pygments_lexer": "ipython3",
   "version": "3.11.5"
  }
 },
 "nbformat": 4,
 "nbformat_minor": 2
}
