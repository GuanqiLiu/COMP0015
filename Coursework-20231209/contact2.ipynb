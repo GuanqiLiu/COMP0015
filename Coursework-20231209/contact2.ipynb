{
 "cells": [
  {
   "cell_type": "code",
   "execution_count": null,
   "metadata": {},
   "outputs": [],
   "source": [
    "#!/usr/bin/env python3\n",
    "\"\"\"Analyse a vampire infiltration.\n",
    "Student number: 20183712\n",
    "\"\"\"\n",
    "\n",
    "import sys\n",
    "import os.path\n",
    "from format_list import format_list, format_list_or, str_time, is_initial, period_of_time, day_of_time, time_of_day\n",
    "\n",
    "# Section 2\n",
    "def file_exists(file_name):\n",
    "    \"\"\"Verify that the file exists.\n",
    "\n",
    "    Args:\n",
    "        file_name (str): name of the file\n",
    "\n",
    "    Returns:\n",
    "        boolean: returns True if the file exists and False otherwise.\n",
    "    \"\"\"\n",
    "    return True"
   ]
  },
  {
   "cell_type": "code",
   "execution_count": null,
   "metadata": {},
   "outputs": [],
   "source": [
    "python3 contact.py Dataset0.txt"
   ]
  },
  {
   "cell_type": "code",
   "execution_count": null,
   "metadata": {},
   "outputs": [],
   "source": [
    "if not file_exists(filename):\n",
    "        print(\"File does not exist, ending program.\")\n",
    "        sys.exit()"
   ]
  },
  {
   "cell_type": "code",
   "execution_count": null,
   "metadata": {},
   "outputs": [],
   "source": [
    "def file_exists(file_name):\n",
    "\n",
    "    file_name (str): \n",
    "\n",
    "    Returns:\n",
    "        boolean: returns True if the file exists and False otherwise.\n",
    "\n",
    "    return True"
   ]
  },
  {
   "cell_type": "code",
   "execution_count": 6,
   "metadata": {},
   "outputs": [
    {
     "data": {
      "text/plain": [
       "True"
      ]
     },
     "execution_count": 6,
     "metadata": {},
     "output_type": "execute_result"
    }
   ],
   "source": [
    "def file_exists(file_name):\n",
    "    \"\"\"Verify that the file exists.\n",
    "\n",
    "    Args:\n",
    "        file_name (str): name of the file\n",
    "\n",
    "    Returns:\n",
    "        boolean: returns True if the file exists and False otherwise.\n",
    "    \"\"\"\n",
    "    return True\n",
    "\n",
    "file_exists('/Users/shiyi/Desktop/Coursework/DataSet0.txt')"
   ]
  }
 ],
 "metadata": {
  "kernelspec": {
   "display_name": "Python 3",
   "language": "python",
   "name": "python3"
  },
  "language_info": {
   "codemirror_mode": {
    "name": "ipython",
    "version": 3
   },
   "file_extension": ".py",
   "mimetype": "text/x-python",
   "name": "python",
   "nbconvert_exporter": "python",
   "pygments_lexer": "ipython3",
   "version": "3.11.5"
  }
 },
 "nbformat": 4,
 "nbformat_minor": 2
}
